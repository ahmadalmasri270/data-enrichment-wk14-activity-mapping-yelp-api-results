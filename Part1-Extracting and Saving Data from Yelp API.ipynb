{
 "cells": [
  {
   "cell_type": "markdown",
   "metadata": {
    "id": "8guYh-VR7nlX"
   },
   "source": [
    "# Part 1 - Extracting and Saving Data from Yelp API"
   ]
  },
  {
   "cell_type": "markdown",
   "metadata": {},
   "source": [
    "## Obective"
   ]
  },
  {
   "cell_type": "markdown",
   "metadata": {
    "id": "8guYh-VR7nlX"
   },
   "source": [
    "- For this CodeAlong, we will be working with the Yelp API. \n",
    "- You will use the the Yelp API to search your home town for a cuisine type of your choice.\n",
    "- Next class, we will then use Plotly Express to create a map with the Mapbox API to visualize the results.\n",
    "    \n",
    "    "
   ]
  },
  {
   "cell_type": "markdown",
   "metadata": {
    "id": "8guYh-VR7nlX"
   },
   "source": [
    "## Tools You Will Use\n",
    "- Part 1:\n",
    "    - Yelp API:\n",
    "        - Getting Started: \n",
    "            - https://www.yelp.com/developers/documentation/v3/get_started\n",
    "\n",
    "    - `YelpAPI` python package\n",
    "        -  \"YelpAPI\": https://github.com/gfairchild/yelpapi\n",
    "- Part 2:\n",
    "\n",
    "    - Plotly Express: https://plotly.com/python/getting-started/\n",
    "        - With Mapbox API: https://www.mapbox.com/\n",
    "        - `px.scatter_mapbox` [Documentation](https://plotly.com/python/scattermapbox/): \n",
    "\n",
    "\n"
   ]
  },
  {
   "cell_type": "markdown",
   "metadata": {},
   "source": [
    "### Applying Code From\n",
    "- Efficient API Calls Lesson Link: https://login.codingdojo.com/m/376/12529/88078"
   ]
  },
  {
   "cell_type": "code",
   "execution_count": 1,
   "metadata": {},
   "outputs": [],
   "source": [
    "# Standard Imports\n",
    "import numpy as np\n",
    "import pandas as pd\n",
    "import matplotlib.pyplot as plt\n",
    "import seaborn as sns\n",
    "\n",
    "# Additional Imports\n",
    "import os, json, math, time\n",
    "from yelpapi import YelpAPI\n",
    "from tqdm.notebook import tqdm_notebook"
   ]
  },
  {
   "cell_type": "code",
   "execution_count": 2,
   "metadata": {},
   "outputs": [
    {
     "name": "stdout",
     "output_type": "stream",
     "text": [
      "Requirement already satisfied: yelpapi in c:\\users\\zofo\\anaconda3\\envs\\dojo-env\\lib\\site-packages (2.5.0)\n",
      "Requirement already satisfied: requests in c:\\users\\zofo\\anaconda3\\envs\\dojo-env\\lib\\site-packages (from yelpapi) (2.28.1)\n",
      "Requirement already satisfied: charset-normalizer<3,>=2 in c:\\users\\zofo\\anaconda3\\envs\\dojo-env\\lib\\site-packages (from requests->yelpapi) (2.0.4)\n",
      "Requirement already satisfied: certifi>=2017.4.17 in c:\\users\\zofo\\anaconda3\\envs\\dojo-env\\lib\\site-packages (from requests->yelpapi) (2022.12.7)\n",
      "Requirement already satisfied: urllib3<1.27,>=1.21.1 in c:\\users\\zofo\\anaconda3\\envs\\dojo-env\\lib\\site-packages (from requests->yelpapi) (1.26.13)\n",
      "Requirement already satisfied: idna<4,>=2.5 in c:\\users\\zofo\\anaconda3\\envs\\dojo-env\\lib\\site-packages (from requests->yelpapi) (3.4)\n"
     ]
    }
   ],
   "source": [
    "!pip install yelpapi"
   ]
  },
  {
   "cell_type": "markdown",
   "metadata": {
    "id": "1l3Z-79nBSX9"
   },
   "source": [
    "## 1. Registering for Required APIs"
   ]
  },
  {
   "cell_type": "markdown",
   "metadata": {
    "id": "1l3Z-79nBSX9"
   },
   "source": [
    "\n",
    "- Yelp: https://www.yelp.com/developers/documentation/v3/get_started\n"
   ]
  },
  {
   "cell_type": "markdown",
   "metadata": {},
   "source": [
    "> Check the official API documentation to know what arguments we can search for: https://www.yelp.com/developers/documentation/v3/business_search"
   ]
  },
  {
   "cell_type": "markdown",
   "metadata": {},
   "source": [
    "### Load Credentials and Create Yelp API Object"
   ]
  },
  {
   "cell_type": "code",
   "execution_count": 16,
   "metadata": {
    "ExecuteTime": {
     "end_time": "2022-03-25T18:20:46.629934Z",
     "start_time": "2022-03-25T18:20:45.915864Z"
    },
    "colab": {
     "base_uri": "https://localhost:8080/"
    },
    "id": "xJYqVvNkE36a",
    "outputId": "67798160-dea2-41fc-9040-2b3833efa560"
   },
   "outputs": [],
   "source": [
    "# Load API Credentials\n",
    "with open('/Users/Zofo/.secret/yelp_api.json','r') as f: #change the path to match YOUR path!!\n",
    "    login = json.load(f)"
   ]
  },
  {
   "cell_type": "code",
   "execution_count": 17,
   "metadata": {
    "ExecuteTime": {
     "end_time": "2022-03-25T18:20:46.629934Z",
     "start_time": "2022-03-25T18:20:45.915864Z"
    },
    "colab": {
     "base_uri": "https://localhost:8080/"
    },
    "id": "xJYqVvNkE36a",
    "outputId": "67798160-dea2-41fc-9040-2b3833efa560"
   },
   "outputs": [
    {
     "data": {
      "text/plain": [
       "dict_keys(['Client ID', 'API Key'])"
      ]
     },
     "execution_count": 17,
     "metadata": {},
     "output_type": "execute_result"
    }
   ],
   "source": [
    "login.keys()"
   ]
  },
  {
   "cell_type": "code",
   "execution_count": 20,
   "metadata": {
    "ExecuteTime": {
     "end_time": "2022-03-25T18:20:46.629934Z",
     "start_time": "2022-03-25T18:20:45.915864Z"
    },
    "colab": {
     "base_uri": "https://localhost:8080/"
    },
    "id": "xJYqVvNkE36a",
    "outputId": "67798160-dea2-41fc-9040-2b3833efa560"
   },
   "outputs": [
    {
     "data": {
      "text/plain": [
       "'bhv0eTCz293z6WE2EGrJGgLvlDwPk_WtsfEJh3RVl1Ca5p4ikS3uuGmbYrGEjUWXE17BB6vm43sGOW-1gDdhuXEwt2BOR8LevF1VVeaB8xYecGdgL_tXrh9CocPdY3Yx'"
      ]
     },
     "execution_count": 20,
     "metadata": {},
     "output_type": "execute_result"
    }
   ],
   "source": []
  },
  {
   "cell_type": "code",
   "execution_count": 21,
   "metadata": {},
   "outputs": [
    {
     "data": {
      "text/plain": [
       "<yelpapi.yelpapi.YelpAPI at 0x1cfadfe18b0>"
      ]
     },
     "execution_count": 21,
     "metadata": {},
     "output_type": "execute_result"
    }
   ],
   "source": [
    "# Instantiate YelpAPI Variable\n",
    "  = YelpAPI(login['API Key'], timeout_s=5.0)\n",
    "yelp_api"
   ]
  },
  {
   "cell_type": "markdown",
   "metadata": {},
   "source": [
    "### Define Search Terms and File Paths"
   ]
  },
  {
   "cell_type": "code",
   "execution_count": 25,
   "metadata": {},
   "outputs": [],
   "source": [
    "# set our API call parameters and filename before the first call\n",
    "# Quick Test Query\n",
    "location='Chicago, IL 60601'\n",
    "term='pizza'"
   ]
  },
  {
   "cell_type": "code",
   "execution_count": 26,
   "metadata": {},
   "outputs": [],
   "source": [
    "## Specify fodler for saving data\n",
    "FOLDER ='Data/'\n",
    "os.makedirs(FOLDER,exist_ok=True)"
   ]
  },
  {
   "cell_type": "code",
   "execution_count": 27,
   "metadata": {},
   "outputs": [
    {
     "data": {
      "text/plain": [
       "'Chicago'"
      ]
     },
     "execution_count": 27,
     "metadata": {},
     "output_type": "execute_result"
    }
   ],
   "source": [
    "location.split(',')[0]"
   ]
  },
  {
   "cell_type": "code",
   "execution_count": 33,
   "metadata": {},
   "outputs": [],
   "source": [
    "JSON_FILE =FOLDER+f\"{location.split(',')[0]}-{term}.json\""
   ]
  },
  {
   "cell_type": "code",
   "execution_count": 34,
   "metadata": {},
   "outputs": [
    {
     "data": {
      "text/plain": [
       "'Data/Chicago-pizza.json'"
      ]
     },
     "execution_count": 34,
     "metadata": {},
     "output_type": "execute_result"
    }
   ],
   "source": [
    "# Specifying JSON_FILE filename (can include a folder)\n",
    "JSON_FILE"
   ]
  },
  {
   "cell_type": "markdown",
   "metadata": {},
   "source": [
    "### Check if Json File exists and Create it if it doesn't"
   ]
  },
  {
   "cell_type": "code",
   "execution_count": 35,
   "metadata": {},
   "outputs": [
    {
     "name": "stdout",
     "output_type": "stream",
     "text": [
      "[i] Data/Chicago-pizza.json not found. save empty list to file.\n"
     ]
    }
   ],
   "source": [
    "## Check if JSON_FILE exists\n",
    "file_exists = os.path.isfile(JSON_FILE)\n",
    "## If it does not exist: \n",
    "if file_exists== False:\n",
    "    ## CREATE ANY NEEDED FOLDERS\n",
    "    # Get the Folder Name only\n",
    "    folder = os.path.dirname(JSON_FILE)\n",
    "    \n",
    "    ## If JSON_FILE included a folder:\n",
    "    if len(folder)>0:\n",
    "        # create the folder\n",
    "        os.makedirs(folder,exist_ok=True)\n",
    "        \n",
    "        \n",
    "    ## INFORM USER AND SAVE EMPTY LIST\n",
    "    print(f\"[i] {JSON_FILE} not found. save empty list to file.\")\n",
    "    \n",
    "    \n",
    "    ## save the first page of results\n",
    "    with open(JSON_FILE,'w')as f:\n",
    "        json.dump([],f)\n",
    "\n",
    "        \n",
    "## If it exists, inform user\n",
    "else:\n",
    "     print(f\"[i] {JSON_FILE} already esists.\")"
   ]
  },
  {
   "cell_type": "markdown",
   "metadata": {},
   "source": [
    "### Load JSON FIle and account for previous results"
   ]
  },
  {
   "cell_type": "code",
   "execution_count": 8,
   "metadata": {},
   "outputs": [],
   "source": [
    "## Load previous results and use len of results for offset\n",
    "\n",
    "## set offset based on previous results\n"
   ]
  },
  {
   "cell_type": "markdown",
   "metadata": {},
   "source": [
    "### Make the first API call to get the first page of data"
   ]
  },
  {
   "cell_type": "markdown",
   "metadata": {},
   "source": [
    "- We will use this first result to check:\n",
    "    - how many total results there are?\n",
    "    - Where is the actual data we want to save?\n",
    "    - how many results do we get at a time?\n"
   ]
  },
  {
   "cell_type": "code",
   "execution_count": 37,
   "metadata": {},
   "outputs": [],
   "source": [
    "# use our yelp_api variable's search_query method to perform our API call\n",
    "results = yelp_api.search_query(term=term,location =location)"
   ]
  },
  {
   "cell_type": "code",
   "execution_count": 38,
   "metadata": {
    "ExecuteTime": {
     "end_time": "2022-03-24T20:01:48.867510Z",
     "start_time": "2022-03-24T20:01:48.854746Z"
    },
    "colab": {
     "base_uri": "https://localhost:8080/"
    },
    "id": "Myur3i1KGhPf",
    "outputId": "f447c6f9-596b-41d0-ccda-50af0ce82108"
   },
   "outputs": [
    {
     "data": {
      "text/plain": [
       "dict"
      ]
     },
     "execution_count": 38,
     "metadata": {},
     "output_type": "execute_result"
    }
   ],
   "source": [
    "type(results)"
   ]
  },
  {
   "cell_type": "code",
   "execution_count": 39,
   "metadata": {
    "ExecuteTime": {
     "end_time": "2022-03-24T20:01:48.867510Z",
     "start_time": "2022-03-24T20:01:48.854746Z"
    },
    "colab": {
     "base_uri": "https://localhost:8080/"
    },
    "id": "Myur3i1KGhPf",
    "outputId": "f447c6f9-596b-41d0-ccda-50af0ce82108"
   },
   "outputs": [
    {
     "data": {
      "text/plain": [
       "3"
      ]
     },
     "execution_count": 39,
     "metadata": {},
     "output_type": "execute_result"
    }
   ],
   "source": [
    "## How many results total?\n",
    "len(results)"
   ]
  },
  {
   "cell_type": "code",
   "execution_count": 41,
   "metadata": {
    "ExecuteTime": {
     "end_time": "2022-03-24T20:01:48.867510Z",
     "start_time": "2022-03-24T20:01:48.854746Z"
    },
    "colab": {
     "base_uri": "https://localhost:8080/"
    },
    "id": "Myur3i1KGhPf",
    "outputId": "f447c6f9-596b-41d0-ccda-50af0ce82108"
   },
   "outputs": [
    {
     "data": {
      "text/plain": [
       "dict_keys(['businesses', 'total', 'region'])"
      ]
     },
     "execution_count": 41,
     "metadata": {},
     "output_type": "execute_result"
    }
   ],
   "source": [
    "results.keys()"
   ]
  },
  {
   "cell_type": "code",
   "execution_count": 42,
   "metadata": {
    "ExecuteTime": {
     "end_time": "2022-03-24T20:01:48.867510Z",
     "start_time": "2022-03-24T20:01:48.854746Z"
    },
    "colab": {
     "base_uri": "https://localhost:8080/"
    },
    "id": "Myur3i1KGhPf",
    "outputId": "f447c6f9-596b-41d0-ccda-50af0ce82108"
   },
   "outputs": [
    {
     "data": {
      "text/plain": [
       "[{'id': 'Bxd9Y2PsdvIOGIKFQh53RQ',\n",
       "  'alias': 'giordanos-chicago-30',\n",
       "  'name': \"Giordano's\",\n",
       "  'image_url': 'https://s3-media1.fl.yelpcdn.com/bphoto/OKxuR9ZqBNY-4wvP0Z0SPQ/o.jpg',\n",
       "  'is_closed': False,\n",
       "  'url': 'https://www.yelp.com/biz/giordanos-chicago-30?adjust_creative=PqT1hmHRP1zGhTJr-g21rQ&utm_campaign=yelp_api_v3&utm_medium=api_v3_business_search&utm_source=PqT1hmHRP1zGhTJr-g21rQ',\n",
       "  'review_count': 3378,\n",
       "  'categories': [{'alias': 'pizza', 'title': 'Pizza'},\n",
       "   {'alias': 'salad', 'title': 'Salad'},\n",
       "   {'alias': 'italian', 'title': 'Italian'}],\n",
       "  'rating': 4.0,\n",
       "  'coordinates': {'latitude': 41.88513231411071,\n",
       "   'longitude': -87.62375615999174},\n",
       "  'transactions': ['delivery'],\n",
       "  'price': '$$',\n",
       "  'location': {'address1': '130 E Randolph St',\n",
       "   'address2': '',\n",
       "   'address3': '',\n",
       "   'city': 'Chicago',\n",
       "   'zip_code': '60601',\n",
       "   'country': 'US',\n",
       "   'state': 'IL',\n",
       "   'display_address': ['130 E Randolph St', 'Chicago, IL 60601']},\n",
       "  'phone': '+13126161200',\n",
       "  'display_phone': '(312) 616-1200',\n",
       "  'distance': 37.286266174361224},\n",
       " {'id': '8vFJH_paXsMocmEO_KAa3w',\n",
       "  'alias': 'lou-malnatis-pizzeria-chicago',\n",
       "  'name': \"Lou Malnati's Pizzeria\",\n",
       "  'image_url': 'https://s3-media3.fl.yelpcdn.com/bphoto/FXGmfo6Dv7Wb4RDrSOYJrg/o.jpg',\n",
       "  'is_closed': False,\n",
       "  'url': 'https://www.yelp.com/biz/lou-malnatis-pizzeria-chicago?adjust_creative=PqT1hmHRP1zGhTJr-g21rQ&utm_campaign=yelp_api_v3&utm_medium=api_v3_business_search&utm_source=PqT1hmHRP1zGhTJr-g21rQ',\n",
       "  'review_count': 6985,\n",
       "  'categories': [{'alias': 'pizza', 'title': 'Pizza'},\n",
       "   {'alias': 'italian', 'title': 'Italian'},\n",
       "   {'alias': 'sandwiches', 'title': 'Sandwiches'}],\n",
       "  'rating': 4.0,\n",
       "  'coordinates': {'latitude': 41.890357, 'longitude': -87.633704},\n",
       "  'transactions': ['delivery', 'pickup'],\n",
       "  'price': '$$',\n",
       "  'location': {'address1': '439 N Wells St',\n",
       "   'address2': '',\n",
       "   'address3': '',\n",
       "   'city': 'Chicago',\n",
       "   'zip_code': '60654',\n",
       "   'country': 'US',\n",
       "   'state': 'IL',\n",
       "   'display_address': ['439 N Wells St', 'Chicago, IL 60654']},\n",
       "  'phone': '+13128289800',\n",
       "  'display_phone': '(312) 828-9800',\n",
       "  'distance': 1044.6122786936082},\n",
       " {'id': 'Rn3o8GcYBPFJX5MWJn0r1Q',\n",
       "  'alias': 'roberts-pizza-and-dough-chicago',\n",
       "  'name': \"Robert's Pizza and Dough\",\n",
       "  'image_url': 'https://s3-media1.fl.yelpcdn.com/bphoto/0KtoeKbMGdR0d_0DfLZ2dw/o.jpg',\n",
       "  'is_closed': False,\n",
       "  'url': 'https://www.yelp.com/biz/roberts-pizza-and-dough-chicago?adjust_creative=PqT1hmHRP1zGhTJr-g21rQ&utm_campaign=yelp_api_v3&utm_medium=api_v3_business_search&utm_source=PqT1hmHRP1zGhTJr-g21rQ',\n",
       "  'review_count': 692,\n",
       "  'categories': [{'alias': 'pizza', 'title': 'Pizza'}],\n",
       "  'rating': 4.5,\n",
       "  'coordinates': {'latitude': 41.8906916389975,\n",
       "   'longitude': -87.6172096480698},\n",
       "  'transactions': ['delivery', 'pickup'],\n",
       "  'price': '$$',\n",
       "  'location': {'address1': '465 N McClurg Ct',\n",
       "   'address2': '',\n",
       "   'address3': '',\n",
       "   'city': 'Chicago',\n",
       "   'zip_code': '60611',\n",
       "   'country': 'US',\n",
       "   'state': 'IL',\n",
       "   'display_address': ['465 N McClurg Ct', 'Chicago, IL 60611']},\n",
       "  'phone': '+13122651328',\n",
       "  'display_phone': '(312) 265-1328',\n",
       "  'distance': 824.9366804848331},\n",
       " {'id': 'hxq4TNNazA-sjqFvVgx_Pw',\n",
       "  'alias': 'bongiornos-italian-deli-and-pizzeria-chicago',\n",
       "  'name': \"Bongiorno's Italian Deli & Pizzeria\",\n",
       "  'image_url': 'https://s3-media3.fl.yelpcdn.com/bphoto/A2VP2GZVFw23BqtZXdGxKg/o.jpg',\n",
       "  'is_closed': False,\n",
       "  'url': 'https://www.yelp.com/biz/bongiornos-italian-deli-and-pizzeria-chicago?adjust_creative=PqT1hmHRP1zGhTJr-g21rQ&utm_campaign=yelp_api_v3&utm_medium=api_v3_business_search&utm_source=PqT1hmHRP1zGhTJr-g21rQ',\n",
       "  'review_count': 762,\n",
       "  'categories': [{'alias': 'pizza', 'title': 'Pizza'},\n",
       "   {'alias': 'delis', 'title': 'Delis'},\n",
       "   {'alias': 'italian', 'title': 'Italian'}],\n",
       "  'rating': 4.5,\n",
       "  'coordinates': {'latitude': 41.889903, 'longitude': -87.625788},\n",
       "  'transactions': ['delivery', 'pickup'],\n",
       "  'price': '$$',\n",
       "  'location': {'address1': '405 N Wabash Ave',\n",
       "   'address2': '',\n",
       "   'address3': '',\n",
       "   'city': 'Chicago',\n",
       "   'zip_code': '60611',\n",
       "   'country': 'US',\n",
       "   'state': 'IL',\n",
       "   'display_address': ['405 N Wabash Ave', 'Chicago, IL 60611']},\n",
       "  'phone': '+13127551255',\n",
       "  'display_phone': '(312) 755-1255',\n",
       "  'distance': 589.6654990172684},\n",
       " {'id': '9LaA6_oGpgHCJWhlAkbnIw',\n",
       "  'alias': 'pizanos-pizza-chicago-2',\n",
       "  'name': \"Pizano's Pizza\",\n",
       "  'image_url': 'https://s3-media1.fl.yelpcdn.com/bphoto/t-JBT5IpM6eXZzjb4_0PfA/o.jpg',\n",
       "  'is_closed': False,\n",
       "  'url': 'https://www.yelp.com/biz/pizanos-pizza-chicago-2?adjust_creative=PqT1hmHRP1zGhTJr-g21rQ&utm_campaign=yelp_api_v3&utm_medium=api_v3_business_search&utm_source=PqT1hmHRP1zGhTJr-g21rQ',\n",
       "  'review_count': 1607,\n",
       "  'categories': [{'alias': 'pizza', 'title': 'Pizza'},\n",
       "   {'alias': 'italian', 'title': 'Italian'}],\n",
       "  'rating': 3.5,\n",
       "  'coordinates': {'latitude': 41.88196509081896,\n",
       "   'longitude': -87.62568599310559},\n",
       "  'transactions': ['delivery', 'pickup'],\n",
       "  'price': '$$',\n",
       "  'location': {'address1': '61 E Madison St',\n",
       "   'address2': '',\n",
       "   'address3': '',\n",
       "   'city': 'Chicago',\n",
       "   'zip_code': '60603',\n",
       "   'country': 'US',\n",
       "   'state': 'IL',\n",
       "   'display_address': ['61 E Madison St', 'Chicago, IL 60603']},\n",
       "  'phone': '+13122361777',\n",
       "  'display_phone': '(312) 236-1777',\n",
       "  'distance': 375.6404781908134},\n",
       " {'id': '_gN4mf22zNcR4mS5J30CuQ',\n",
       "  'alias': 'lou-malnatis-pizzeria-chicago-21',\n",
       "  'name': \"Lou Malnati's Pizzeria\",\n",
       "  'image_url': 'https://s3-media4.fl.yelpcdn.com/bphoto/TA08cTlEs2Ge4TdNakT8zA/o.jpg',\n",
       "  'is_closed': False,\n",
       "  'url': 'https://www.yelp.com/biz/lou-malnatis-pizzeria-chicago-21?adjust_creative=PqT1hmHRP1zGhTJr-g21rQ&utm_campaign=yelp_api_v3&utm_medium=api_v3_business_search&utm_source=PqT1hmHRP1zGhTJr-g21rQ',\n",
       "  'review_count': 469,\n",
       "  'categories': [{'alias': 'pizza', 'title': 'Pizza'}],\n",
       "  'rating': 3.5,\n",
       "  'coordinates': {'latitude': 41.88988928086769,\n",
       "   'longitude': -87.62487182006501},\n",
       "  'transactions': ['pickup'],\n",
       "  'price': '$$',\n",
       "  'location': {'address1': '410 N Michigan Ave',\n",
       "   'address2': None,\n",
       "   'address3': '',\n",
       "   'city': 'Chicago',\n",
       "   'zip_code': '60611',\n",
       "   'country': 'US',\n",
       "   'state': 'IL',\n",
       "   'display_address': ['410 N Michigan Ave', 'Chicago, IL 60611']},\n",
       "  'phone': '+13128585600',\n",
       "  'display_phone': '(312) 858-5600',\n",
       "  'distance': 567.6310571441568},\n",
       " {'id': 'z_qEuUuRWIq4O-YufXHf1w',\n",
       "  'alias': 'giordanos-chicago-9',\n",
       "  'name': \"Giordano's\",\n",
       "  'image_url': 'https://s3-media4.fl.yelpcdn.com/bphoto/ytXegPr0ifOzGBe25m8Ijw/o.jpg',\n",
       "  'is_closed': False,\n",
       "  'url': 'https://www.yelp.com/biz/giordanos-chicago-9?adjust_creative=PqT1hmHRP1zGhTJr-g21rQ&utm_campaign=yelp_api_v3&utm_medium=api_v3_business_search&utm_source=PqT1hmHRP1zGhTJr-g21rQ',\n",
       "  'review_count': 3012,\n",
       "  'categories': [{'alias': 'pizza', 'title': 'Pizza'},\n",
       "   {'alias': 'italian', 'title': 'Italian'},\n",
       "   {'alias': 'bars', 'title': 'Bars'}],\n",
       "  'rating': 3.5,\n",
       "  'coordinates': {'latitude': 41.8958755, 'longitude': -87.625643},\n",
       "  'transactions': ['delivery', 'pickup'],\n",
       "  'price': '$$',\n",
       "  'location': {'address1': '730 N Rush St',\n",
       "   'address2': '',\n",
       "   'address3': '',\n",
       "   'city': 'Chicago',\n",
       "   'zip_code': '60611',\n",
       "   'country': 'US',\n",
       "   'state': 'IL',\n",
       "   'display_address': ['730 N Rush St', 'Chicago, IL 60611']},\n",
       "  'phone': '+13129510747',\n",
       "  'display_phone': '(312) 951-0747',\n",
       "  'distance': 1247.1284295200926},\n",
       " {'id': 'fW5mNILkfD3-0cOqoPsRvA',\n",
       "  'alias': 'labriola-chicago-chicago-4',\n",
       "  'name': 'Labriola Chicago',\n",
       "  'image_url': 'https://s3-media3.fl.yelpcdn.com/bphoto/YypREwEuiM1a7hnqQT3NQA/o.jpg',\n",
       "  'is_closed': False,\n",
       "  'url': 'https://www.yelp.com/biz/labriola-chicago-chicago-4?adjust_creative=PqT1hmHRP1zGhTJr-g21rQ&utm_campaign=yelp_api_v3&utm_medium=api_v3_business_search&utm_source=PqT1hmHRP1zGhTJr-g21rQ',\n",
       "  'review_count': 974,\n",
       "  'categories': [{'alias': 'italian', 'title': 'Italian'},\n",
       "   {'alias': 'cafes', 'title': 'Cafes'},\n",
       "   {'alias': 'newamerican', 'title': 'American (New)'}],\n",
       "  'rating': 4.0,\n",
       "  'coordinates': {'latitude': 41.8919830322266,\n",
       "   'longitude': -87.6235427856445},\n",
       "  'transactions': ['delivery', 'pickup'],\n",
       "  'price': '$$',\n",
       "  'location': {'address1': '535 N Michigan Ave',\n",
       "   'address2': '',\n",
       "   'address3': '',\n",
       "   'city': 'Chicago',\n",
       "   'zip_code': '60611',\n",
       "   'country': 'US',\n",
       "   'state': 'IL',\n",
       "   'display_address': ['535 N Michigan Ave', 'Chicago, IL 60611']},\n",
       "  'phone': '+13129553100',\n",
       "  'display_phone': '(312) 955-3100',\n",
       "  'distance': 783.0215314120358},\n",
       " {'id': 'cxAkuwv7p4gm4Coixw7h9A',\n",
       "  'alias': 'lou-malnatis-pizzeria-chicago-9',\n",
       "  'name': \"Lou Malnati's Pizzeria\",\n",
       "  'image_url': 'https://s3-media2.fl.yelpcdn.com/bphoto/vZVADYrvKuC8iKrczzrdIg/o.jpg',\n",
       "  'is_closed': False,\n",
       "  'url': 'https://www.yelp.com/biz/lou-malnatis-pizzeria-chicago-9?adjust_creative=PqT1hmHRP1zGhTJr-g21rQ&utm_campaign=yelp_api_v3&utm_medium=api_v3_business_search&utm_source=PqT1hmHRP1zGhTJr-g21rQ',\n",
       "  'review_count': 2956,\n",
       "  'categories': [{'alias': 'pizza', 'title': 'Pizza'},\n",
       "   {'alias': 'italian', 'title': 'Italian'}],\n",
       "  'rating': 4.0,\n",
       "  'coordinates': {'latitude': 41.871566, 'longitude': -87.627275},\n",
       "  'transactions': ['delivery', 'pickup'],\n",
       "  'price': '$$',\n",
       "  'location': {'address1': '805 S State St',\n",
       "   'address2': '',\n",
       "   'address3': '',\n",
       "   'city': 'Chicago',\n",
       "   'zip_code': '60605',\n",
       "   'country': 'US',\n",
       "   'state': 'IL',\n",
       "   'display_address': ['805 S State St', 'Chicago, IL 60605']},\n",
       "  'phone': '+13127861000',\n",
       "  'display_phone': '(312) 786-1000',\n",
       "  'distance': 1516.163357152351},\n",
       " {'id': 'dSqRMhGNCWuSjPT_4lsZqw',\n",
       "  'alias': 'siena-tavern-chicago',\n",
       "  'name': 'Siena Tavern',\n",
       "  'image_url': 'https://s3-media3.fl.yelpcdn.com/bphoto/gitShUDIV5KZNPEWFo6s2w/o.jpg',\n",
       "  'is_closed': False,\n",
       "  'url': 'https://www.yelp.com/biz/siena-tavern-chicago?adjust_creative=PqT1hmHRP1zGhTJr-g21rQ&utm_campaign=yelp_api_v3&utm_medium=api_v3_business_search&utm_source=PqT1hmHRP1zGhTJr-g21rQ',\n",
       "  'review_count': 2082,\n",
       "  'categories': [{'alias': 'italian', 'title': 'Italian'},\n",
       "   {'alias': 'newamerican', 'title': 'American (New)'},\n",
       "   {'alias': 'pizza', 'title': 'Pizza'}],\n",
       "  'rating': 4.0,\n",
       "  'coordinates': {'latitude': 41.8891395940387, 'longitude': -87.629966789584},\n",
       "  'transactions': ['delivery', 'pickup'],\n",
       "  'price': '$$$',\n",
       "  'location': {'address1': '51 W Kinzie St',\n",
       "   'address2': '',\n",
       "   'address3': '',\n",
       "   'city': 'Chicago',\n",
       "   'zip_code': '60654',\n",
       "   'country': 'US',\n",
       "   'state': 'IL',\n",
       "   'display_address': ['51 W Kinzie St', 'Chicago, IL 60654']},\n",
       "  'phone': '+13125951322',\n",
       "  'display_phone': '(312) 595-1322',\n",
       "  'distance': 717.5655410281677},\n",
       " {'id': '8eEOnlfXZFYhyzr52ugvCg',\n",
       "  'alias': 'parlor-pizza-bar-river-north-chicago',\n",
       "  'name': 'Parlor Pizza Bar - River North',\n",
       "  'image_url': 'https://s3-media2.fl.yelpcdn.com/bphoto/naQHnMat1_jab3Hgtqc2wA/o.jpg',\n",
       "  'is_closed': False,\n",
       "  'url': 'https://www.yelp.com/biz/parlor-pizza-bar-river-north-chicago?adjust_creative=PqT1hmHRP1zGhTJr-g21rQ&utm_campaign=yelp_api_v3&utm_medium=api_v3_business_search&utm_source=PqT1hmHRP1zGhTJr-g21rQ',\n",
       "  'review_count': 314,\n",
       "  'categories': [{'alias': 'pizza', 'title': 'Pizza'}],\n",
       "  'rating': 4.0,\n",
       "  'coordinates': {'latitude': 41.8894378, 'longitude': -87.6294351},\n",
       "  'transactions': ['delivery', 'pickup'],\n",
       "  'price': '$$',\n",
       "  'location': {'address1': '405 N Dearborn St',\n",
       "   'address2': '',\n",
       "   'address3': None,\n",
       "   'city': 'Chicago',\n",
       "   'zip_code': '60654',\n",
       "   'country': 'US',\n",
       "   'state': 'IL',\n",
       "   'display_address': ['405 N Dearborn St', 'Chicago, IL 60654']},\n",
       "  'phone': '+13123922356',\n",
       "  'display_phone': '(312) 392-2356',\n",
       "  'distance': 699.9351475218377},\n",
       " {'id': 'o4vm4Z31Xfr-Fa8_D9EnLw',\n",
       "  'alias': 'acanto-chicago-3',\n",
       "  'name': 'Acanto',\n",
       "  'image_url': 'https://s3-media3.fl.yelpcdn.com/bphoto/n9F1PgtbkPhFVuO7B0LomQ/o.jpg',\n",
       "  'is_closed': False,\n",
       "  'url': 'https://www.yelp.com/biz/acanto-chicago-3?adjust_creative=PqT1hmHRP1zGhTJr-g21rQ&utm_campaign=yelp_api_v3&utm_medium=api_v3_business_search&utm_source=PqT1hmHRP1zGhTJr-g21rQ',\n",
       "  'review_count': 470,\n",
       "  'categories': [{'alias': 'italian', 'title': 'Italian'},\n",
       "   {'alias': 'wine_bars', 'title': 'Wine Bars'}],\n",
       "  'rating': 4.5,\n",
       "  'coordinates': {'latitude': 41.881323483914, 'longitude': -87.6245379144271},\n",
       "  'transactions': ['delivery'],\n",
       "  'price': '$$',\n",
       "  'location': {'address1': '18 S Michigan Ave',\n",
       "   'address2': None,\n",
       "   'address3': '',\n",
       "   'city': 'Chicago',\n",
       "   'zip_code': '60603',\n",
       "   'country': 'US',\n",
       "   'state': 'IL',\n",
       "   'display_address': ['18 S Michigan Ave', 'Chicago, IL 60603']},\n",
       "  'phone': '+13125780763',\n",
       "  'display_phone': '(312) 578-0763',\n",
       "  'distance': 407.828565718396},\n",
       " {'id': 'ibreTMGGaQSanZttUchjKg',\n",
       "  'alias': 'ginos-east-magnificent-mile-chicago',\n",
       "  'name': \"Gino's East - Magnificent Mile\",\n",
       "  'image_url': 'https://s3-media2.fl.yelpcdn.com/bphoto/CDtbdeiihWP_emfvykRfdg/o.jpg',\n",
       "  'is_closed': False,\n",
       "  'url': 'https://www.yelp.com/biz/ginos-east-magnificent-mile-chicago?adjust_creative=PqT1hmHRP1zGhTJr-g21rQ&utm_campaign=yelp_api_v3&utm_medium=api_v3_business_search&utm_source=PqT1hmHRP1zGhTJr-g21rQ',\n",
       "  'review_count': 2652,\n",
       "  'categories': [{'alias': 'pizza', 'title': 'Pizza'},\n",
       "   {'alias': 'italian', 'title': 'Italian'}],\n",
       "  'rating': 3.5,\n",
       "  'coordinates': {'latitude': 41.89603, 'longitude': -87.62307},\n",
       "  'transactions': ['delivery', 'pickup'],\n",
       "  'price': '$$',\n",
       "  'location': {'address1': '162 E Superior St',\n",
       "   'address2': None,\n",
       "   'address3': '',\n",
       "   'city': 'Chicago',\n",
       "   'zip_code': '60611',\n",
       "   'country': 'US',\n",
       "   'state': 'IL',\n",
       "   'display_address': ['162 E Superior St', 'Chicago, IL 60611']},\n",
       "  'phone': '+13122663337',\n",
       "  'display_phone': '(312) 266-3337',\n",
       "  'distance': 1233.1172855415437},\n",
       " {'id': 't2nXebM7aqTj_qq6saZ89g',\n",
       "  'alias': 'eataly-chicago-chicago-6',\n",
       "  'name': 'Eataly Chicago',\n",
       "  'image_url': 'https://s3-media3.fl.yelpcdn.com/bphoto/02OEcrrRlgunVfmp4ndeNA/o.jpg',\n",
       "  'is_closed': False,\n",
       "  'url': 'https://www.yelp.com/biz/eataly-chicago-chicago-6?adjust_creative=PqT1hmHRP1zGhTJr-g21rQ&utm_campaign=yelp_api_v3&utm_medium=api_v3_business_search&utm_source=PqT1hmHRP1zGhTJr-g21rQ',\n",
       "  'review_count': 4140,\n",
       "  'categories': [{'alias': 'gourmet', 'title': 'Specialty Food'},\n",
       "   {'alias': 'pizza', 'title': 'Pizza'},\n",
       "   {'alias': 'italian', 'title': 'Italian'}],\n",
       "  'rating': 4.0,\n",
       "  'coordinates': {'latitude': 41.892335432963, 'longitude': -87.6262607945148},\n",
       "  'transactions': ['delivery', 'pickup'],\n",
       "  'price': '$$',\n",
       "  'location': {'address1': '43 E Ohio St',\n",
       "   'address2': '',\n",
       "   'address3': '',\n",
       "   'city': 'Chicago',\n",
       "   'zip_code': '60611',\n",
       "   'country': 'US',\n",
       "   'state': 'IL',\n",
       "   'display_address': ['43 E Ohio St', 'Chicago, IL 60611']},\n",
       "  'phone': '+13125218700',\n",
       "  'display_phone': '(312) 521-8700',\n",
       "  'distance': 859.4780072011865},\n",
       " {'id': 'o58Cq5udbf18ZLb8MQpgUQ',\n",
       "  'alias': 'pizzeria-uno-chicago',\n",
       "  'name': 'Pizzeria Uno',\n",
       "  'image_url': 'https://s3-media3.fl.yelpcdn.com/bphoto/lNn4t3szv9b0vQv9IDDTYw/o.jpg',\n",
       "  'is_closed': False,\n",
       "  'url': 'https://www.yelp.com/biz/pizzeria-uno-chicago?adjust_creative=PqT1hmHRP1zGhTJr-g21rQ&utm_campaign=yelp_api_v3&utm_medium=api_v3_business_search&utm_source=PqT1hmHRP1zGhTJr-g21rQ',\n",
       "  'review_count': 1588,\n",
       "  'categories': [{'alias': 'pizza', 'title': 'Pizza'},\n",
       "   {'alias': 'italian', 'title': 'Italian'}],\n",
       "  'rating': 3.5,\n",
       "  'coordinates': {'latitude': 41.89227, 'longitude': -87.62692},\n",
       "  'transactions': ['delivery', 'pickup'],\n",
       "  'price': '$$',\n",
       "  'location': {'address1': '29 E Ohio St',\n",
       "   'address2': '',\n",
       "   'address3': '',\n",
       "   'city': 'Chicago',\n",
       "   'zip_code': '60611',\n",
       "   'country': 'US',\n",
       "   'state': 'IL',\n",
       "   'display_address': ['29 E Ohio St', 'Chicago, IL 60611']},\n",
       "  'phone': '+13123211000',\n",
       "  'display_phone': '(312) 321-1000',\n",
       "  'distance': 870.2817139371914},\n",
       " {'id': 'ziIfrqtyupmeNlPAOx6jTw',\n",
       "  'alias': 'quartino-ristorante-chicago',\n",
       "  'name': 'Quartino Ristorante',\n",
       "  'image_url': 'https://s3-media4.fl.yelpcdn.com/bphoto/qJWmrq_AMIHcwhJs94uKvQ/o.jpg',\n",
       "  'is_closed': False,\n",
       "  'url': 'https://www.yelp.com/biz/quartino-ristorante-chicago?adjust_creative=PqT1hmHRP1zGhTJr-g21rQ&utm_campaign=yelp_api_v3&utm_medium=api_v3_business_search&utm_source=PqT1hmHRP1zGhTJr-g21rQ',\n",
       "  'review_count': 5281,\n",
       "  'categories': [{'alias': 'italian', 'title': 'Italian'},\n",
       "   {'alias': 'wine_bars', 'title': 'Wine Bars'}],\n",
       "  'rating': 4.0,\n",
       "  'coordinates': {'latitude': 41.8934479679332,\n",
       "   'longitude': -87.6283662020996},\n",
       "  'transactions': ['delivery'],\n",
       "  'price': '$$',\n",
       "  'location': {'address1': '626 N State St',\n",
       "   'address2': None,\n",
       "   'address3': '',\n",
       "   'city': 'Chicago',\n",
       "   'zip_code': '60654',\n",
       "   'country': 'US',\n",
       "   'state': 'IL',\n",
       "   'display_address': ['626 N State St', 'Chicago, IL 60654']},\n",
       "  'phone': '+13126985000',\n",
       "  'display_phone': '(312) 698-5000',\n",
       "  'distance': 1034.6763066994288},\n",
       " {'id': '1Q7RL7Hc63wKa2A9ec3zXw',\n",
       "  'alias': 'il-porcellino-chicago',\n",
       "  'name': 'Il Porcellino',\n",
       "  'image_url': 'https://s3-media4.fl.yelpcdn.com/bphoto/jP8qUlgweAL28FA3Ycwy2w/o.jpg',\n",
       "  'is_closed': False,\n",
       "  'url': 'https://www.yelp.com/biz/il-porcellino-chicago?adjust_creative=PqT1hmHRP1zGhTJr-g21rQ&utm_campaign=yelp_api_v3&utm_medium=api_v3_business_search&utm_source=PqT1hmHRP1zGhTJr-g21rQ',\n",
       "  'review_count': 1194,\n",
       "  'categories': [{'alias': 'italian', 'title': 'Italian'},\n",
       "   {'alias': 'bars', 'title': 'Bars'},\n",
       "   {'alias': 'salad', 'title': 'Salad'}],\n",
       "  'rating': 4.5,\n",
       "  'coordinates': {'latitude': 41.889924873471024,\n",
       "   'longitude': -87.63029251373732},\n",
       "  'transactions': ['delivery', 'pickup'],\n",
       "  'price': '$$',\n",
       "  'location': {'address1': '59 W Hubbard St',\n",
       "   'address2': '',\n",
       "   'address3': '',\n",
       "   'city': 'Chicago',\n",
       "   'zip_code': '60654',\n",
       "   'country': 'US',\n",
       "   'state': 'IL',\n",
       "   'display_address': ['59 W Hubbard St', 'Chicago, IL 60654']},\n",
       "  'phone': '+13125950800',\n",
       "  'display_phone': '(312) 595-0800',\n",
       "  'distance': 796.7303000951039},\n",
       " {'id': 'PlJM2cGFBEhv51_ZpP2EuQ',\n",
       "  'alias': 'giordanos-navy-pier-chicago',\n",
       "  'name': \"Giordano's - Navy Pier\",\n",
       "  'image_url': 'https://s3-media3.fl.yelpcdn.com/bphoto/uN0azkugnOIEKgdxl9YFgw/o.jpg',\n",
       "  'is_closed': False,\n",
       "  'url': 'https://www.yelp.com/biz/giordanos-navy-pier-chicago?adjust_creative=PqT1hmHRP1zGhTJr-g21rQ&utm_campaign=yelp_api_v3&utm_medium=api_v3_business_search&utm_source=PqT1hmHRP1zGhTJr-g21rQ',\n",
       "  'review_count': 830,\n",
       "  'categories': [{'alias': 'pizza', 'title': 'Pizza'},\n",
       "   {'alias': 'salad', 'title': 'Salad'},\n",
       "   {'alias': 'italian', 'title': 'Italian'}],\n",
       "  'rating': 4.0,\n",
       "  'coordinates': {'latitude': 41.891823, 'longitude': -87.60966},\n",
       "  'transactions': [],\n",
       "  'price': '$$',\n",
       "  'location': {'address1': '700 E Grand Ave',\n",
       "   'address2': '',\n",
       "   'address3': '',\n",
       "   'city': 'Chicago',\n",
       "   'zip_code': '60611',\n",
       "   'country': 'US',\n",
       "   'state': 'IL',\n",
       "   'display_address': ['700 E Grand Ave', 'Chicago, IL 60611']},\n",
       "  'phone': '+13122888783',\n",
       "  'display_phone': '(312) 288-8783',\n",
       "  'distance': 1375.8648449090558},\n",
       " {'id': 'ytVUakv872TF68ybLi87Sw',\n",
       "  'alias': 'rosatis-pizza-chicago-13',\n",
       "  'name': \"Rosati's Pizza\",\n",
       "  'image_url': 'https://s3-media1.fl.yelpcdn.com/bphoto/TDZ8sgPd6JRRdgIwFGot_A/o.jpg',\n",
       "  'is_closed': False,\n",
       "  'url': 'https://www.yelp.com/biz/rosatis-pizza-chicago-13?adjust_creative=PqT1hmHRP1zGhTJr-g21rQ&utm_campaign=yelp_api_v3&utm_medium=api_v3_business_search&utm_source=PqT1hmHRP1zGhTJr-g21rQ',\n",
       "  'review_count': 113,\n",
       "  'categories': [{'alias': 'pizza', 'title': 'Pizza'},\n",
       "   {'alias': 'chicken_wings', 'title': 'Chicken Wings'},\n",
       "   {'alias': 'italian', 'title': 'Italian'}],\n",
       "  'rating': 3.0,\n",
       "  'coordinates': {'latitude': 41.88509, 'longitude': -87.63416},\n",
       "  'transactions': ['delivery', 'pickup'],\n",
       "  'location': {'address1': '176 N Wells St',\n",
       "   'address2': '',\n",
       "   'address3': None,\n",
       "   'city': 'Chicago',\n",
       "   'zip_code': '60606',\n",
       "   'country': 'US',\n",
       "   'state': 'IL',\n",
       "   'display_address': ['176 N Wells St', 'Chicago, IL 60606']},\n",
       "  'phone': '+13123327272',\n",
       "  'display_phone': '(312) 332-7272',\n",
       "  'distance': 897.9941536341579},\n",
       " {'id': 'FqzYCiJ29FGw6KFAGrpuJQ',\n",
       "  'alias': 'lou-malnatis-pizzeria-chicago-8',\n",
       "  'name': \"Lou Malnati's Pizzeria\",\n",
       "  'image_url': 'https://s3-media2.fl.yelpcdn.com/bphoto/2IpFtDHUASSu1Pefdlii7w/o.jpg',\n",
       "  'is_closed': False,\n",
       "  'url': 'https://www.yelp.com/biz/lou-malnatis-pizzeria-chicago-8?adjust_creative=PqT1hmHRP1zGhTJr-g21rQ&utm_campaign=yelp_api_v3&utm_medium=api_v3_business_search&utm_source=PqT1hmHRP1zGhTJr-g21rQ',\n",
       "  'review_count': 1712,\n",
       "  'categories': [{'alias': 'bars', 'title': 'Bars'},\n",
       "   {'alias': 'pizza', 'title': 'Pizza'},\n",
       "   {'alias': 'italian', 'title': 'Italian'}],\n",
       "  'rating': 4.0,\n",
       "  'coordinates': {'latitude': 41.90259525277, 'longitude': -87.6286705209015},\n",
       "  'transactions': ['delivery', 'pickup'],\n",
       "  'price': '$$',\n",
       "  'location': {'address1': '1120 N State St',\n",
       "   'address2': '',\n",
       "   'address3': '',\n",
       "   'city': 'Chicago',\n",
       "   'zip_code': '60610',\n",
       "   'country': 'US',\n",
       "   'state': 'IL',\n",
       "   'display_address': ['1120 N State St', 'Chicago, IL 60610']},\n",
       "  'phone': '+13127257777',\n",
       "  'display_phone': '(312) 725-7777',\n",
       "  'distance': 2015.0189164530475}]"
      ]
     },
     "execution_count": 42,
     "metadata": {},
     "output_type": "execute_result"
    }
   ],
   "source": [
    "results['businesses']"
   ]
  },
  {
   "cell_type": "code",
   "execution_count": 43,
   "metadata": {
    "ExecuteTime": {
     "end_time": "2022-03-24T20:01:48.867510Z",
     "start_time": "2022-03-24T20:01:48.854746Z"
    },
    "colab": {
     "base_uri": "https://localhost:8080/"
    },
    "id": "Myur3i1KGhPf",
    "outputId": "f447c6f9-596b-41d0-ccda-50af0ce82108"
   },
   "outputs": [
    {
     "data": {
      "text/plain": [
       "562"
      ]
     },
     "execution_count": 43,
     "metadata": {},
     "output_type": "execute_result"
    }
   ],
   "source": [
    "results['total']"
   ]
  },
  {
   "cell_type": "code",
   "execution_count": 44,
   "metadata": {
    "ExecuteTime": {
     "end_time": "2022-03-24T20:01:48.867510Z",
     "start_time": "2022-03-24T20:01:48.854746Z"
    },
    "colab": {
     "base_uri": "https://localhost:8080/"
    },
    "id": "Myur3i1KGhPf",
    "outputId": "f447c6f9-596b-41d0-ccda-50af0ce82108"
   },
   "outputs": [
    {
     "data": {
      "text/plain": [
       "{'center': {'longitude': -87.62343406677246, 'latitude': 41.884897919305004}}"
      ]
     },
     "execution_count": 44,
     "metadata": {},
     "output_type": "execute_result"
    }
   ],
   "source": [
    "results['region']"
   ]
  },
  {
   "cell_type": "code",
   "execution_count": 45,
   "metadata": {
    "ExecuteTime": {
     "end_time": "2022-03-24T20:01:48.867510Z",
     "start_time": "2022-03-24T20:01:48.854746Z"
    },
    "colab": {
     "base_uri": "https://localhost:8080/"
    },
    "id": "Myur3i1KGhPf",
    "outputId": "f447c6f9-596b-41d0-ccda-50af0ce82108"
   },
   "outputs": [
    {
     "data": {
      "text/html": [
       "<div>\n",
       "<style scoped>\n",
       "    .dataframe tbody tr th:only-of-type {\n",
       "        vertical-align: middle;\n",
       "    }\n",
       "\n",
       "    .dataframe tbody tr th {\n",
       "        vertical-align: top;\n",
       "    }\n",
       "\n",
       "    .dataframe thead th {\n",
       "        text-align: right;\n",
       "    }\n",
       "</style>\n",
       "<table border=\"1\" class=\"dataframe\">\n",
       "  <thead>\n",
       "    <tr style=\"text-align: right;\">\n",
       "      <th></th>\n",
       "      <th>id</th>\n",
       "      <th>alias</th>\n",
       "      <th>name</th>\n",
       "      <th>image_url</th>\n",
       "      <th>is_closed</th>\n",
       "      <th>url</th>\n",
       "      <th>review_count</th>\n",
       "      <th>categories</th>\n",
       "      <th>rating</th>\n",
       "      <th>coordinates</th>\n",
       "      <th>transactions</th>\n",
       "      <th>price</th>\n",
       "      <th>location</th>\n",
       "      <th>phone</th>\n",
       "      <th>display_phone</th>\n",
       "      <th>distance</th>\n",
       "    </tr>\n",
       "  </thead>\n",
       "  <tbody>\n",
       "    <tr>\n",
       "      <th>0</th>\n",
       "      <td>Bxd9Y2PsdvIOGIKFQh53RQ</td>\n",
       "      <td>giordanos-chicago-30</td>\n",
       "      <td>Giordano's</td>\n",
       "      <td>https://s3-media1.fl.yelpcdn.com/bphoto/OKxuR9...</td>\n",
       "      <td>False</td>\n",
       "      <td>https://www.yelp.com/biz/giordanos-chicago-30?...</td>\n",
       "      <td>3378</td>\n",
       "      <td>[{'alias': 'pizza', 'title': 'Pizza'}, {'alias...</td>\n",
       "      <td>4.0</td>\n",
       "      <td>{'latitude': 41.88513231411071, 'longitude': -...</td>\n",
       "      <td>[delivery]</td>\n",
       "      <td>$$</td>\n",
       "      <td>{'address1': '130 E Randolph St', 'address2': ...</td>\n",
       "      <td>+13126161200</td>\n",
       "      <td>(312) 616-1200</td>\n",
       "      <td>37.286266</td>\n",
       "    </tr>\n",
       "    <tr>\n",
       "      <th>1</th>\n",
       "      <td>8vFJH_paXsMocmEO_KAa3w</td>\n",
       "      <td>lou-malnatis-pizzeria-chicago</td>\n",
       "      <td>Lou Malnati's Pizzeria</td>\n",
       "      <td>https://s3-media3.fl.yelpcdn.com/bphoto/FXGmfo...</td>\n",
       "      <td>False</td>\n",
       "      <td>https://www.yelp.com/biz/lou-malnatis-pizzeria...</td>\n",
       "      <td>6985</td>\n",
       "      <td>[{'alias': 'pizza', 'title': 'Pizza'}, {'alias...</td>\n",
       "      <td>4.0</td>\n",
       "      <td>{'latitude': 41.890357, 'longitude': -87.633704}</td>\n",
       "      <td>[delivery, pickup]</td>\n",
       "      <td>$$</td>\n",
       "      <td>{'address1': '439 N Wells St', 'address2': '',...</td>\n",
       "      <td>+13128289800</td>\n",
       "      <td>(312) 828-9800</td>\n",
       "      <td>1044.612279</td>\n",
       "    </tr>\n",
       "    <tr>\n",
       "      <th>2</th>\n",
       "      <td>Rn3o8GcYBPFJX5MWJn0r1Q</td>\n",
       "      <td>roberts-pizza-and-dough-chicago</td>\n",
       "      <td>Robert's Pizza and Dough</td>\n",
       "      <td>https://s3-media1.fl.yelpcdn.com/bphoto/0KtoeK...</td>\n",
       "      <td>False</td>\n",
       "      <td>https://www.yelp.com/biz/roberts-pizza-and-dou...</td>\n",
       "      <td>692</td>\n",
       "      <td>[{'alias': 'pizza', 'title': 'Pizza'}]</td>\n",
       "      <td>4.5</td>\n",
       "      <td>{'latitude': 41.8906916389975, 'longitude': -8...</td>\n",
       "      <td>[delivery, pickup]</td>\n",
       "      <td>$$</td>\n",
       "      <td>{'address1': '465 N McClurg Ct', 'address2': '...</td>\n",
       "      <td>+13122651328</td>\n",
       "      <td>(312) 265-1328</td>\n",
       "      <td>824.936680</td>\n",
       "    </tr>\n",
       "    <tr>\n",
       "      <th>3</th>\n",
       "      <td>hxq4TNNazA-sjqFvVgx_Pw</td>\n",
       "      <td>bongiornos-italian-deli-and-pizzeria-chicago</td>\n",
       "      <td>Bongiorno's Italian Deli &amp; Pizzeria</td>\n",
       "      <td>https://s3-media3.fl.yelpcdn.com/bphoto/A2VP2G...</td>\n",
       "      <td>False</td>\n",
       "      <td>https://www.yelp.com/biz/bongiornos-italian-de...</td>\n",
       "      <td>762</td>\n",
       "      <td>[{'alias': 'pizza', 'title': 'Pizza'}, {'alias...</td>\n",
       "      <td>4.5</td>\n",
       "      <td>{'latitude': 41.889903, 'longitude': -87.625788}</td>\n",
       "      <td>[delivery, pickup]</td>\n",
       "      <td>$$</td>\n",
       "      <td>{'address1': '405 N Wabash Ave', 'address2': '...</td>\n",
       "      <td>+13127551255</td>\n",
       "      <td>(312) 755-1255</td>\n",
       "      <td>589.665499</td>\n",
       "    </tr>\n",
       "    <tr>\n",
       "      <th>4</th>\n",
       "      <td>9LaA6_oGpgHCJWhlAkbnIw</td>\n",
       "      <td>pizanos-pizza-chicago-2</td>\n",
       "      <td>Pizano's Pizza</td>\n",
       "      <td>https://s3-media1.fl.yelpcdn.com/bphoto/t-JBT5...</td>\n",
       "      <td>False</td>\n",
       "      <td>https://www.yelp.com/biz/pizanos-pizza-chicago...</td>\n",
       "      <td>1607</td>\n",
       "      <td>[{'alias': 'pizza', 'title': 'Pizza'}, {'alias...</td>\n",
       "      <td>3.5</td>\n",
       "      <td>{'latitude': 41.88196509081896, 'longitude': -...</td>\n",
       "      <td>[delivery, pickup]</td>\n",
       "      <td>$$</td>\n",
       "      <td>{'address1': '61 E Madison St', 'address2': ''...</td>\n",
       "      <td>+13122361777</td>\n",
       "      <td>(312) 236-1777</td>\n",
       "      <td>375.640478</td>\n",
       "    </tr>\n",
       "    <tr>\n",
       "      <th>5</th>\n",
       "      <td>_gN4mf22zNcR4mS5J30CuQ</td>\n",
       "      <td>lou-malnatis-pizzeria-chicago-21</td>\n",
       "      <td>Lou Malnati's Pizzeria</td>\n",
       "      <td>https://s3-media4.fl.yelpcdn.com/bphoto/TA08cT...</td>\n",
       "      <td>False</td>\n",
       "      <td>https://www.yelp.com/biz/lou-malnatis-pizzeria...</td>\n",
       "      <td>469</td>\n",
       "      <td>[{'alias': 'pizza', 'title': 'Pizza'}]</td>\n",
       "      <td>3.5</td>\n",
       "      <td>{'latitude': 41.88988928086769, 'longitude': -...</td>\n",
       "      <td>[pickup]</td>\n",
       "      <td>$$</td>\n",
       "      <td>{'address1': '410 N Michigan Ave', 'address2':...</td>\n",
       "      <td>+13128585600</td>\n",
       "      <td>(312) 858-5600</td>\n",
       "      <td>567.631057</td>\n",
       "    </tr>\n",
       "    <tr>\n",
       "      <th>6</th>\n",
       "      <td>z_qEuUuRWIq4O-YufXHf1w</td>\n",
       "      <td>giordanos-chicago-9</td>\n",
       "      <td>Giordano's</td>\n",
       "      <td>https://s3-media4.fl.yelpcdn.com/bphoto/ytXegP...</td>\n",
       "      <td>False</td>\n",
       "      <td>https://www.yelp.com/biz/giordanos-chicago-9?a...</td>\n",
       "      <td>3012</td>\n",
       "      <td>[{'alias': 'pizza', 'title': 'Pizza'}, {'alias...</td>\n",
       "      <td>3.5</td>\n",
       "      <td>{'latitude': 41.8958755, 'longitude': -87.625643}</td>\n",
       "      <td>[delivery, pickup]</td>\n",
       "      <td>$$</td>\n",
       "      <td>{'address1': '730 N Rush St', 'address2': '', ...</td>\n",
       "      <td>+13129510747</td>\n",
       "      <td>(312) 951-0747</td>\n",
       "      <td>1247.128430</td>\n",
       "    </tr>\n",
       "    <tr>\n",
       "      <th>7</th>\n",
       "      <td>fW5mNILkfD3-0cOqoPsRvA</td>\n",
       "      <td>labriola-chicago-chicago-4</td>\n",
       "      <td>Labriola Chicago</td>\n",
       "      <td>https://s3-media3.fl.yelpcdn.com/bphoto/YypREw...</td>\n",
       "      <td>False</td>\n",
       "      <td>https://www.yelp.com/biz/labriola-chicago-chic...</td>\n",
       "      <td>974</td>\n",
       "      <td>[{'alias': 'italian', 'title': 'Italian'}, {'a...</td>\n",
       "      <td>4.0</td>\n",
       "      <td>{'latitude': 41.8919830322266, 'longitude': -8...</td>\n",
       "      <td>[delivery, pickup]</td>\n",
       "      <td>$$</td>\n",
       "      <td>{'address1': '535 N Michigan Ave', 'address2':...</td>\n",
       "      <td>+13129553100</td>\n",
       "      <td>(312) 955-3100</td>\n",
       "      <td>783.021531</td>\n",
       "    </tr>\n",
       "    <tr>\n",
       "      <th>8</th>\n",
       "      <td>cxAkuwv7p4gm4Coixw7h9A</td>\n",
       "      <td>lou-malnatis-pizzeria-chicago-9</td>\n",
       "      <td>Lou Malnati's Pizzeria</td>\n",
       "      <td>https://s3-media2.fl.yelpcdn.com/bphoto/vZVADY...</td>\n",
       "      <td>False</td>\n",
       "      <td>https://www.yelp.com/biz/lou-malnatis-pizzeria...</td>\n",
       "      <td>2956</td>\n",
       "      <td>[{'alias': 'pizza', 'title': 'Pizza'}, {'alias...</td>\n",
       "      <td>4.0</td>\n",
       "      <td>{'latitude': 41.871566, 'longitude': -87.627275}</td>\n",
       "      <td>[delivery, pickup]</td>\n",
       "      <td>$$</td>\n",
       "      <td>{'address1': '805 S State St', 'address2': '',...</td>\n",
       "      <td>+13127861000</td>\n",
       "      <td>(312) 786-1000</td>\n",
       "      <td>1516.163357</td>\n",
       "    </tr>\n",
       "    <tr>\n",
       "      <th>9</th>\n",
       "      <td>dSqRMhGNCWuSjPT_4lsZqw</td>\n",
       "      <td>siena-tavern-chicago</td>\n",
       "      <td>Siena Tavern</td>\n",
       "      <td>https://s3-media3.fl.yelpcdn.com/bphoto/gitShU...</td>\n",
       "      <td>False</td>\n",
       "      <td>https://www.yelp.com/biz/siena-tavern-chicago?...</td>\n",
       "      <td>2082</td>\n",
       "      <td>[{'alias': 'italian', 'title': 'Italian'}, {'a...</td>\n",
       "      <td>4.0</td>\n",
       "      <td>{'latitude': 41.8891395940387, 'longitude': -8...</td>\n",
       "      <td>[delivery, pickup]</td>\n",
       "      <td>$$$</td>\n",
       "      <td>{'address1': '51 W Kinzie St', 'address2': '',...</td>\n",
       "      <td>+13125951322</td>\n",
       "      <td>(312) 595-1322</td>\n",
       "      <td>717.565541</td>\n",
       "    </tr>\n",
       "    <tr>\n",
       "      <th>10</th>\n",
       "      <td>8eEOnlfXZFYhyzr52ugvCg</td>\n",
       "      <td>parlor-pizza-bar-river-north-chicago</td>\n",
       "      <td>Parlor Pizza Bar - River North</td>\n",
       "      <td>https://s3-media2.fl.yelpcdn.com/bphoto/naQHnM...</td>\n",
       "      <td>False</td>\n",
       "      <td>https://www.yelp.com/biz/parlor-pizza-bar-rive...</td>\n",
       "      <td>314</td>\n",
       "      <td>[{'alias': 'pizza', 'title': 'Pizza'}]</td>\n",
       "      <td>4.0</td>\n",
       "      <td>{'latitude': 41.8894378, 'longitude': -87.6294...</td>\n",
       "      <td>[delivery, pickup]</td>\n",
       "      <td>$$</td>\n",
       "      <td>{'address1': '405 N Dearborn St', 'address2': ...</td>\n",
       "      <td>+13123922356</td>\n",
       "      <td>(312) 392-2356</td>\n",
       "      <td>699.935148</td>\n",
       "    </tr>\n",
       "    <tr>\n",
       "      <th>11</th>\n",
       "      <td>o4vm4Z31Xfr-Fa8_D9EnLw</td>\n",
       "      <td>acanto-chicago-3</td>\n",
       "      <td>Acanto</td>\n",
       "      <td>https://s3-media3.fl.yelpcdn.com/bphoto/n9F1Pg...</td>\n",
       "      <td>False</td>\n",
       "      <td>https://www.yelp.com/biz/acanto-chicago-3?adju...</td>\n",
       "      <td>470</td>\n",
       "      <td>[{'alias': 'italian', 'title': 'Italian'}, {'a...</td>\n",
       "      <td>4.5</td>\n",
       "      <td>{'latitude': 41.881323483914, 'longitude': -87...</td>\n",
       "      <td>[delivery]</td>\n",
       "      <td>$$</td>\n",
       "      <td>{'address1': '18 S Michigan Ave', 'address2': ...</td>\n",
       "      <td>+13125780763</td>\n",
       "      <td>(312) 578-0763</td>\n",
       "      <td>407.828566</td>\n",
       "    </tr>\n",
       "    <tr>\n",
       "      <th>12</th>\n",
       "      <td>ibreTMGGaQSanZttUchjKg</td>\n",
       "      <td>ginos-east-magnificent-mile-chicago</td>\n",
       "      <td>Gino's East - Magnificent Mile</td>\n",
       "      <td>https://s3-media2.fl.yelpcdn.com/bphoto/CDtbde...</td>\n",
       "      <td>False</td>\n",
       "      <td>https://www.yelp.com/biz/ginos-east-magnificen...</td>\n",
       "      <td>2652</td>\n",
       "      <td>[{'alias': 'pizza', 'title': 'Pizza'}, {'alias...</td>\n",
       "      <td>3.5</td>\n",
       "      <td>{'latitude': 41.89603, 'longitude': -87.62307}</td>\n",
       "      <td>[delivery, pickup]</td>\n",
       "      <td>$$</td>\n",
       "      <td>{'address1': '162 E Superior St', 'address2': ...</td>\n",
       "      <td>+13122663337</td>\n",
       "      <td>(312) 266-3337</td>\n",
       "      <td>1233.117286</td>\n",
       "    </tr>\n",
       "    <tr>\n",
       "      <th>13</th>\n",
       "      <td>t2nXebM7aqTj_qq6saZ89g</td>\n",
       "      <td>eataly-chicago-chicago-6</td>\n",
       "      <td>Eataly Chicago</td>\n",
       "      <td>https://s3-media3.fl.yelpcdn.com/bphoto/02OEcr...</td>\n",
       "      <td>False</td>\n",
       "      <td>https://www.yelp.com/biz/eataly-chicago-chicag...</td>\n",
       "      <td>4140</td>\n",
       "      <td>[{'alias': 'gourmet', 'title': 'Specialty Food...</td>\n",
       "      <td>4.0</td>\n",
       "      <td>{'latitude': 41.892335432963, 'longitude': -87...</td>\n",
       "      <td>[delivery, pickup]</td>\n",
       "      <td>$$</td>\n",
       "      <td>{'address1': '43 E Ohio St', 'address2': '', '...</td>\n",
       "      <td>+13125218700</td>\n",
       "      <td>(312) 521-8700</td>\n",
       "      <td>859.478007</td>\n",
       "    </tr>\n",
       "    <tr>\n",
       "      <th>14</th>\n",
       "      <td>o58Cq5udbf18ZLb8MQpgUQ</td>\n",
       "      <td>pizzeria-uno-chicago</td>\n",
       "      <td>Pizzeria Uno</td>\n",
       "      <td>https://s3-media3.fl.yelpcdn.com/bphoto/lNn4t3...</td>\n",
       "      <td>False</td>\n",
       "      <td>https://www.yelp.com/biz/pizzeria-uno-chicago?...</td>\n",
       "      <td>1588</td>\n",
       "      <td>[{'alias': 'pizza', 'title': 'Pizza'}, {'alias...</td>\n",
       "      <td>3.5</td>\n",
       "      <td>{'latitude': 41.89227, 'longitude': -87.62692}</td>\n",
       "      <td>[delivery, pickup]</td>\n",
       "      <td>$$</td>\n",
       "      <td>{'address1': '29 E Ohio St', 'address2': '', '...</td>\n",
       "      <td>+13123211000</td>\n",
       "      <td>(312) 321-1000</td>\n",
       "      <td>870.281714</td>\n",
       "    </tr>\n",
       "    <tr>\n",
       "      <th>15</th>\n",
       "      <td>ziIfrqtyupmeNlPAOx6jTw</td>\n",
       "      <td>quartino-ristorante-chicago</td>\n",
       "      <td>Quartino Ristorante</td>\n",
       "      <td>https://s3-media4.fl.yelpcdn.com/bphoto/qJWmrq...</td>\n",
       "      <td>False</td>\n",
       "      <td>https://www.yelp.com/biz/quartino-ristorante-c...</td>\n",
       "      <td>5281</td>\n",
       "      <td>[{'alias': 'italian', 'title': 'Italian'}, {'a...</td>\n",
       "      <td>4.0</td>\n",
       "      <td>{'latitude': 41.8934479679332, 'longitude': -8...</td>\n",
       "      <td>[delivery]</td>\n",
       "      <td>$$</td>\n",
       "      <td>{'address1': '626 N State St', 'address2': Non...</td>\n",
       "      <td>+13126985000</td>\n",
       "      <td>(312) 698-5000</td>\n",
       "      <td>1034.676307</td>\n",
       "    </tr>\n",
       "    <tr>\n",
       "      <th>16</th>\n",
       "      <td>1Q7RL7Hc63wKa2A9ec3zXw</td>\n",
       "      <td>il-porcellino-chicago</td>\n",
       "      <td>Il Porcellino</td>\n",
       "      <td>https://s3-media4.fl.yelpcdn.com/bphoto/jP8qUl...</td>\n",
       "      <td>False</td>\n",
       "      <td>https://www.yelp.com/biz/il-porcellino-chicago...</td>\n",
       "      <td>1194</td>\n",
       "      <td>[{'alias': 'italian', 'title': 'Italian'}, {'a...</td>\n",
       "      <td>4.5</td>\n",
       "      <td>{'latitude': 41.889924873471024, 'longitude': ...</td>\n",
       "      <td>[delivery, pickup]</td>\n",
       "      <td>$$</td>\n",
       "      <td>{'address1': '59 W Hubbard St', 'address2': ''...</td>\n",
       "      <td>+13125950800</td>\n",
       "      <td>(312) 595-0800</td>\n",
       "      <td>796.730300</td>\n",
       "    </tr>\n",
       "    <tr>\n",
       "      <th>17</th>\n",
       "      <td>PlJM2cGFBEhv51_ZpP2EuQ</td>\n",
       "      <td>giordanos-navy-pier-chicago</td>\n",
       "      <td>Giordano's - Navy Pier</td>\n",
       "      <td>https://s3-media3.fl.yelpcdn.com/bphoto/uN0azk...</td>\n",
       "      <td>False</td>\n",
       "      <td>https://www.yelp.com/biz/giordanos-navy-pier-c...</td>\n",
       "      <td>830</td>\n",
       "      <td>[{'alias': 'pizza', 'title': 'Pizza'}, {'alias...</td>\n",
       "      <td>4.0</td>\n",
       "      <td>{'latitude': 41.891823, 'longitude': -87.60966}</td>\n",
       "      <td>[]</td>\n",
       "      <td>$$</td>\n",
       "      <td>{'address1': '700 E Grand Ave', 'address2': ''...</td>\n",
       "      <td>+13122888783</td>\n",
       "      <td>(312) 288-8783</td>\n",
       "      <td>1375.864845</td>\n",
       "    </tr>\n",
       "    <tr>\n",
       "      <th>18</th>\n",
       "      <td>ytVUakv872TF68ybLi87Sw</td>\n",
       "      <td>rosatis-pizza-chicago-13</td>\n",
       "      <td>Rosati's Pizza</td>\n",
       "      <td>https://s3-media1.fl.yelpcdn.com/bphoto/TDZ8sg...</td>\n",
       "      <td>False</td>\n",
       "      <td>https://www.yelp.com/biz/rosatis-pizza-chicago...</td>\n",
       "      <td>113</td>\n",
       "      <td>[{'alias': 'pizza', 'title': 'Pizza'}, {'alias...</td>\n",
       "      <td>3.0</td>\n",
       "      <td>{'latitude': 41.88509, 'longitude': -87.63416}</td>\n",
       "      <td>[delivery, pickup]</td>\n",
       "      <td>NaN</td>\n",
       "      <td>{'address1': '176 N Wells St', 'address2': '',...</td>\n",
       "      <td>+13123327272</td>\n",
       "      <td>(312) 332-7272</td>\n",
       "      <td>897.994154</td>\n",
       "    </tr>\n",
       "    <tr>\n",
       "      <th>19</th>\n",
       "      <td>FqzYCiJ29FGw6KFAGrpuJQ</td>\n",
       "      <td>lou-malnatis-pizzeria-chicago-8</td>\n",
       "      <td>Lou Malnati's Pizzeria</td>\n",
       "      <td>https://s3-media2.fl.yelpcdn.com/bphoto/2IpFtD...</td>\n",
       "      <td>False</td>\n",
       "      <td>https://www.yelp.com/biz/lou-malnatis-pizzeria...</td>\n",
       "      <td>1712</td>\n",
       "      <td>[{'alias': 'bars', 'title': 'Bars'}, {'alias':...</td>\n",
       "      <td>4.0</td>\n",
       "      <td>{'latitude': 41.90259525277, 'longitude': -87....</td>\n",
       "      <td>[delivery, pickup]</td>\n",
       "      <td>$$</td>\n",
       "      <td>{'address1': '1120 N State St', 'address2': ''...</td>\n",
       "      <td>+13127257777</td>\n",
       "      <td>(312) 725-7777</td>\n",
       "      <td>2015.018916</td>\n",
       "    </tr>\n",
       "  </tbody>\n",
       "</table>\n",
       "</div>"
      ],
      "text/plain": [
       "                        id                                         alias  \\\n",
       "0   Bxd9Y2PsdvIOGIKFQh53RQ                          giordanos-chicago-30   \n",
       "1   8vFJH_paXsMocmEO_KAa3w                 lou-malnatis-pizzeria-chicago   \n",
       "2   Rn3o8GcYBPFJX5MWJn0r1Q               roberts-pizza-and-dough-chicago   \n",
       "3   hxq4TNNazA-sjqFvVgx_Pw  bongiornos-italian-deli-and-pizzeria-chicago   \n",
       "4   9LaA6_oGpgHCJWhlAkbnIw                       pizanos-pizza-chicago-2   \n",
       "5   _gN4mf22zNcR4mS5J30CuQ              lou-malnatis-pizzeria-chicago-21   \n",
       "6   z_qEuUuRWIq4O-YufXHf1w                           giordanos-chicago-9   \n",
       "7   fW5mNILkfD3-0cOqoPsRvA                    labriola-chicago-chicago-4   \n",
       "8   cxAkuwv7p4gm4Coixw7h9A               lou-malnatis-pizzeria-chicago-9   \n",
       "9   dSqRMhGNCWuSjPT_4lsZqw                          siena-tavern-chicago   \n",
       "10  8eEOnlfXZFYhyzr52ugvCg          parlor-pizza-bar-river-north-chicago   \n",
       "11  o4vm4Z31Xfr-Fa8_D9EnLw                              acanto-chicago-3   \n",
       "12  ibreTMGGaQSanZttUchjKg           ginos-east-magnificent-mile-chicago   \n",
       "13  t2nXebM7aqTj_qq6saZ89g                      eataly-chicago-chicago-6   \n",
       "14  o58Cq5udbf18ZLb8MQpgUQ                          pizzeria-uno-chicago   \n",
       "15  ziIfrqtyupmeNlPAOx6jTw                   quartino-ristorante-chicago   \n",
       "16  1Q7RL7Hc63wKa2A9ec3zXw                         il-porcellino-chicago   \n",
       "17  PlJM2cGFBEhv51_ZpP2EuQ                   giordanos-navy-pier-chicago   \n",
       "18  ytVUakv872TF68ybLi87Sw                      rosatis-pizza-chicago-13   \n",
       "19  FqzYCiJ29FGw6KFAGrpuJQ               lou-malnatis-pizzeria-chicago-8   \n",
       "\n",
       "                                   name  \\\n",
       "0                            Giordano's   \n",
       "1                Lou Malnati's Pizzeria   \n",
       "2              Robert's Pizza and Dough   \n",
       "3   Bongiorno's Italian Deli & Pizzeria   \n",
       "4                        Pizano's Pizza   \n",
       "5                Lou Malnati's Pizzeria   \n",
       "6                            Giordano's   \n",
       "7                      Labriola Chicago   \n",
       "8                Lou Malnati's Pizzeria   \n",
       "9                          Siena Tavern   \n",
       "10       Parlor Pizza Bar - River North   \n",
       "11                               Acanto   \n",
       "12       Gino's East - Magnificent Mile   \n",
       "13                       Eataly Chicago   \n",
       "14                         Pizzeria Uno   \n",
       "15                  Quartino Ristorante   \n",
       "16                        Il Porcellino   \n",
       "17               Giordano's - Navy Pier   \n",
       "18                       Rosati's Pizza   \n",
       "19               Lou Malnati's Pizzeria   \n",
       "\n",
       "                                            image_url  is_closed  \\\n",
       "0   https://s3-media1.fl.yelpcdn.com/bphoto/OKxuR9...      False   \n",
       "1   https://s3-media3.fl.yelpcdn.com/bphoto/FXGmfo...      False   \n",
       "2   https://s3-media1.fl.yelpcdn.com/bphoto/0KtoeK...      False   \n",
       "3   https://s3-media3.fl.yelpcdn.com/bphoto/A2VP2G...      False   \n",
       "4   https://s3-media1.fl.yelpcdn.com/bphoto/t-JBT5...      False   \n",
       "5   https://s3-media4.fl.yelpcdn.com/bphoto/TA08cT...      False   \n",
       "6   https://s3-media4.fl.yelpcdn.com/bphoto/ytXegP...      False   \n",
       "7   https://s3-media3.fl.yelpcdn.com/bphoto/YypREw...      False   \n",
       "8   https://s3-media2.fl.yelpcdn.com/bphoto/vZVADY...      False   \n",
       "9   https://s3-media3.fl.yelpcdn.com/bphoto/gitShU...      False   \n",
       "10  https://s3-media2.fl.yelpcdn.com/bphoto/naQHnM...      False   \n",
       "11  https://s3-media3.fl.yelpcdn.com/bphoto/n9F1Pg...      False   \n",
       "12  https://s3-media2.fl.yelpcdn.com/bphoto/CDtbde...      False   \n",
       "13  https://s3-media3.fl.yelpcdn.com/bphoto/02OEcr...      False   \n",
       "14  https://s3-media3.fl.yelpcdn.com/bphoto/lNn4t3...      False   \n",
       "15  https://s3-media4.fl.yelpcdn.com/bphoto/qJWmrq...      False   \n",
       "16  https://s3-media4.fl.yelpcdn.com/bphoto/jP8qUl...      False   \n",
       "17  https://s3-media3.fl.yelpcdn.com/bphoto/uN0azk...      False   \n",
       "18  https://s3-media1.fl.yelpcdn.com/bphoto/TDZ8sg...      False   \n",
       "19  https://s3-media2.fl.yelpcdn.com/bphoto/2IpFtD...      False   \n",
       "\n",
       "                                                  url  review_count  \\\n",
       "0   https://www.yelp.com/biz/giordanos-chicago-30?...          3378   \n",
       "1   https://www.yelp.com/biz/lou-malnatis-pizzeria...          6985   \n",
       "2   https://www.yelp.com/biz/roberts-pizza-and-dou...           692   \n",
       "3   https://www.yelp.com/biz/bongiornos-italian-de...           762   \n",
       "4   https://www.yelp.com/biz/pizanos-pizza-chicago...          1607   \n",
       "5   https://www.yelp.com/biz/lou-malnatis-pizzeria...           469   \n",
       "6   https://www.yelp.com/biz/giordanos-chicago-9?a...          3012   \n",
       "7   https://www.yelp.com/biz/labriola-chicago-chic...           974   \n",
       "8   https://www.yelp.com/biz/lou-malnatis-pizzeria...          2956   \n",
       "9   https://www.yelp.com/biz/siena-tavern-chicago?...          2082   \n",
       "10  https://www.yelp.com/biz/parlor-pizza-bar-rive...           314   \n",
       "11  https://www.yelp.com/biz/acanto-chicago-3?adju...           470   \n",
       "12  https://www.yelp.com/biz/ginos-east-magnificen...          2652   \n",
       "13  https://www.yelp.com/biz/eataly-chicago-chicag...          4140   \n",
       "14  https://www.yelp.com/biz/pizzeria-uno-chicago?...          1588   \n",
       "15  https://www.yelp.com/biz/quartino-ristorante-c...          5281   \n",
       "16  https://www.yelp.com/biz/il-porcellino-chicago...          1194   \n",
       "17  https://www.yelp.com/biz/giordanos-navy-pier-c...           830   \n",
       "18  https://www.yelp.com/biz/rosatis-pizza-chicago...           113   \n",
       "19  https://www.yelp.com/biz/lou-malnatis-pizzeria...          1712   \n",
       "\n",
       "                                           categories  rating  \\\n",
       "0   [{'alias': 'pizza', 'title': 'Pizza'}, {'alias...     4.0   \n",
       "1   [{'alias': 'pizza', 'title': 'Pizza'}, {'alias...     4.0   \n",
       "2              [{'alias': 'pizza', 'title': 'Pizza'}]     4.5   \n",
       "3   [{'alias': 'pizza', 'title': 'Pizza'}, {'alias...     4.5   \n",
       "4   [{'alias': 'pizza', 'title': 'Pizza'}, {'alias...     3.5   \n",
       "5              [{'alias': 'pizza', 'title': 'Pizza'}]     3.5   \n",
       "6   [{'alias': 'pizza', 'title': 'Pizza'}, {'alias...     3.5   \n",
       "7   [{'alias': 'italian', 'title': 'Italian'}, {'a...     4.0   \n",
       "8   [{'alias': 'pizza', 'title': 'Pizza'}, {'alias...     4.0   \n",
       "9   [{'alias': 'italian', 'title': 'Italian'}, {'a...     4.0   \n",
       "10             [{'alias': 'pizza', 'title': 'Pizza'}]     4.0   \n",
       "11  [{'alias': 'italian', 'title': 'Italian'}, {'a...     4.5   \n",
       "12  [{'alias': 'pizza', 'title': 'Pizza'}, {'alias...     3.5   \n",
       "13  [{'alias': 'gourmet', 'title': 'Specialty Food...     4.0   \n",
       "14  [{'alias': 'pizza', 'title': 'Pizza'}, {'alias...     3.5   \n",
       "15  [{'alias': 'italian', 'title': 'Italian'}, {'a...     4.0   \n",
       "16  [{'alias': 'italian', 'title': 'Italian'}, {'a...     4.5   \n",
       "17  [{'alias': 'pizza', 'title': 'Pizza'}, {'alias...     4.0   \n",
       "18  [{'alias': 'pizza', 'title': 'Pizza'}, {'alias...     3.0   \n",
       "19  [{'alias': 'bars', 'title': 'Bars'}, {'alias':...     4.0   \n",
       "\n",
       "                                          coordinates        transactions  \\\n",
       "0   {'latitude': 41.88513231411071, 'longitude': -...          [delivery]   \n",
       "1    {'latitude': 41.890357, 'longitude': -87.633704}  [delivery, pickup]   \n",
       "2   {'latitude': 41.8906916389975, 'longitude': -8...  [delivery, pickup]   \n",
       "3    {'latitude': 41.889903, 'longitude': -87.625788}  [delivery, pickup]   \n",
       "4   {'latitude': 41.88196509081896, 'longitude': -...  [delivery, pickup]   \n",
       "5   {'latitude': 41.88988928086769, 'longitude': -...            [pickup]   \n",
       "6   {'latitude': 41.8958755, 'longitude': -87.625643}  [delivery, pickup]   \n",
       "7   {'latitude': 41.8919830322266, 'longitude': -8...  [delivery, pickup]   \n",
       "8    {'latitude': 41.871566, 'longitude': -87.627275}  [delivery, pickup]   \n",
       "9   {'latitude': 41.8891395940387, 'longitude': -8...  [delivery, pickup]   \n",
       "10  {'latitude': 41.8894378, 'longitude': -87.6294...  [delivery, pickup]   \n",
       "11  {'latitude': 41.881323483914, 'longitude': -87...          [delivery]   \n",
       "12     {'latitude': 41.89603, 'longitude': -87.62307}  [delivery, pickup]   \n",
       "13  {'latitude': 41.892335432963, 'longitude': -87...  [delivery, pickup]   \n",
       "14     {'latitude': 41.89227, 'longitude': -87.62692}  [delivery, pickup]   \n",
       "15  {'latitude': 41.8934479679332, 'longitude': -8...          [delivery]   \n",
       "16  {'latitude': 41.889924873471024, 'longitude': ...  [delivery, pickup]   \n",
       "17    {'latitude': 41.891823, 'longitude': -87.60966}                  []   \n",
       "18     {'latitude': 41.88509, 'longitude': -87.63416}  [delivery, pickup]   \n",
       "19  {'latitude': 41.90259525277, 'longitude': -87....  [delivery, pickup]   \n",
       "\n",
       "   price                                           location         phone  \\\n",
       "0     $$  {'address1': '130 E Randolph St', 'address2': ...  +13126161200   \n",
       "1     $$  {'address1': '439 N Wells St', 'address2': '',...  +13128289800   \n",
       "2     $$  {'address1': '465 N McClurg Ct', 'address2': '...  +13122651328   \n",
       "3     $$  {'address1': '405 N Wabash Ave', 'address2': '...  +13127551255   \n",
       "4     $$  {'address1': '61 E Madison St', 'address2': ''...  +13122361777   \n",
       "5     $$  {'address1': '410 N Michigan Ave', 'address2':...  +13128585600   \n",
       "6     $$  {'address1': '730 N Rush St', 'address2': '', ...  +13129510747   \n",
       "7     $$  {'address1': '535 N Michigan Ave', 'address2':...  +13129553100   \n",
       "8     $$  {'address1': '805 S State St', 'address2': '',...  +13127861000   \n",
       "9    $$$  {'address1': '51 W Kinzie St', 'address2': '',...  +13125951322   \n",
       "10    $$  {'address1': '405 N Dearborn St', 'address2': ...  +13123922356   \n",
       "11    $$  {'address1': '18 S Michigan Ave', 'address2': ...  +13125780763   \n",
       "12    $$  {'address1': '162 E Superior St', 'address2': ...  +13122663337   \n",
       "13    $$  {'address1': '43 E Ohio St', 'address2': '', '...  +13125218700   \n",
       "14    $$  {'address1': '29 E Ohio St', 'address2': '', '...  +13123211000   \n",
       "15    $$  {'address1': '626 N State St', 'address2': Non...  +13126985000   \n",
       "16    $$  {'address1': '59 W Hubbard St', 'address2': ''...  +13125950800   \n",
       "17    $$  {'address1': '700 E Grand Ave', 'address2': ''...  +13122888783   \n",
       "18   NaN  {'address1': '176 N Wells St', 'address2': '',...  +13123327272   \n",
       "19    $$  {'address1': '1120 N State St', 'address2': ''...  +13127257777   \n",
       "\n",
       "     display_phone     distance  \n",
       "0   (312) 616-1200    37.286266  \n",
       "1   (312) 828-9800  1044.612279  \n",
       "2   (312) 265-1328   824.936680  \n",
       "3   (312) 755-1255   589.665499  \n",
       "4   (312) 236-1777   375.640478  \n",
       "5   (312) 858-5600   567.631057  \n",
       "6   (312) 951-0747  1247.128430  \n",
       "7   (312) 955-3100   783.021531  \n",
       "8   (312) 786-1000  1516.163357  \n",
       "9   (312) 595-1322   717.565541  \n",
       "10  (312) 392-2356   699.935148  \n",
       "11  (312) 578-0763   407.828566  \n",
       "12  (312) 266-3337  1233.117286  \n",
       "13  (312) 521-8700   859.478007  \n",
       "14  (312) 321-1000   870.281714  \n",
       "15  (312) 698-5000  1034.676307  \n",
       "16  (312) 595-0800   796.730300  \n",
       "17  (312) 288-8783  1375.864845  \n",
       "18  (312) 332-7272   897.994154  \n",
       "19  (312) 725-7777  2015.018916  "
      ]
     },
     "execution_count": 45,
     "metadata": {},
     "output_type": "execute_result"
    }
   ],
   "source": [
    "pd.DataFrame(results['businesses'])"
   ]
  },
  {
   "cell_type": "markdown",
   "metadata": {},
   "source": [
    "- Where is the actual data we want to save?"
   ]
  },
  {
   "cell_type": "code",
   "execution_count": null,
   "metadata": {},
   "outputs": [],
   "source": []
  },
  {
   "cell_type": "code",
   "execution_count": 46,
   "metadata": {},
   "outputs": [
    {
     "data": {
      "text/plain": [
       "20"
      ]
     },
     "execution_count": 46,
     "metadata": {},
     "output_type": "execute_result"
    }
   ],
   "source": [
    "## How many did we get the details for?\n",
    "results_per_page = len(results['businesses'])\n",
    "results_per_page"
   ]
  },
  {
   "cell_type": "markdown",
   "metadata": {},
   "source": [
    "- Calculate how many pages of results needed to cover the total_results"
   ]
  },
  {
   "cell_type": "code",
   "execution_count": 49,
   "metadata": {},
   "outputs": [
    {
     "data": {
      "text/plain": [
       "29"
      ]
     },
     "execution_count": 49,
     "metadata": {},
     "output_type": "execute_result"
    }
   ],
   "source": [
    "# Use math.ceil to round up for the total number of pages of results.\n",
    "bn_pages = math.ceil((results['total'])/ results_per_page)\n",
    "bn_pages"
   ]
  },
  {
   "cell_type": "code",
   "execution_count": 61,
   "metadata": {},
   "outputs": [
    {
     "data": {
      "application/vnd.jupyter.widget-view+json": {
       "model_id": "7f1dba657c3c489d84ed7a614ea8af6f",
       "version_major": 2,
       "version_minor": 0
      },
      "text/plain": [
       "  0%|          | 0/29 [00:00<?, ?it/s]"
      ]
     },
     "metadata": {},
     "output_type": "display_data"
    }
   ],
   "source": [
    "for i in tqdm_notebook( range(1,bn_pages+1)):\n",
    "    ## The block of code we want to TRY to run\n",
    "    try:\n",
    "        time.sleep(.2)\n",
    "        \n",
    "        ## Read in results in progress file and check the length\n",
    "        with open(JSON_FILE, 'r') as f:\n",
    "                previous_results = json.load(f)\n",
    "        \n",
    "        ## save number of results for to use as offset\n",
    "        n_results = len(previous_results)\n",
    "        \n",
    "        \n",
    "        ## use n_results as the OFFSET \n",
    "        results = yelp_api.search_query(location=location,\n",
    "                                        term=term,\n",
    "                                        offset=n_results+1)\n",
    "\n",
    "        ## append new results and save to file\n",
    "        previous_results.extend(results['businesses'])\n",
    "        \n",
    "        with open(JSON_FILE,'w') as f:\n",
    "            json.dump(previous_results,f)\n",
    "\n",
    "            \n",
    "    ## What to do if we get an error/exception.\n",
    "    except Exception as e:\n",
    "            print('[!] ERROR:',e)"
   ]
  },
  {
   "cell_type": "markdown",
   "metadata": {},
   "source": [
    "## Open the Final JSON File with Pandas"
   ]
  },
  {
   "cell_type": "code",
   "execution_count": 62,
   "metadata": {},
   "outputs": [
    {
     "data": {
      "text/html": [
       "<div>\n",
       "<style scoped>\n",
       "    .dataframe tbody tr th:only-of-type {\n",
       "        vertical-align: middle;\n",
       "    }\n",
       "\n",
       "    .dataframe tbody tr th {\n",
       "        vertical-align: top;\n",
       "    }\n",
       "\n",
       "    .dataframe thead th {\n",
       "        text-align: right;\n",
       "    }\n",
       "</style>\n",
       "<table border=\"1\" class=\"dataframe\">\n",
       "  <thead>\n",
       "    <tr style=\"text-align: right;\">\n",
       "      <th></th>\n",
       "      <th>id</th>\n",
       "      <th>alias</th>\n",
       "      <th>name</th>\n",
       "      <th>image_url</th>\n",
       "      <th>is_closed</th>\n",
       "      <th>url</th>\n",
       "      <th>review_count</th>\n",
       "      <th>categories</th>\n",
       "      <th>rating</th>\n",
       "      <th>coordinates</th>\n",
       "      <th>transactions</th>\n",
       "      <th>price</th>\n",
       "      <th>location</th>\n",
       "      <th>phone</th>\n",
       "      <th>display_phone</th>\n",
       "      <th>distance</th>\n",
       "    </tr>\n",
       "  </thead>\n",
       "  <tbody>\n",
       "    <tr>\n",
       "      <th>0</th>\n",
       "      <td>8vFJH_paXsMocmEO_KAa3w</td>\n",
       "      <td>lou-malnatis-pizzeria-chicago</td>\n",
       "      <td>Lou Malnati's Pizzeria</td>\n",
       "      <td>https://s3-media3.fl.yelpcdn.com/bphoto/FXGmfo...</td>\n",
       "      <td>False</td>\n",
       "      <td>https://www.yelp.com/biz/lou-malnatis-pizzeria...</td>\n",
       "      <td>6985</td>\n",
       "      <td>[{'alias': 'pizza', 'title': 'Pizza'}, {'alias...</td>\n",
       "      <td>4.0</td>\n",
       "      <td>{'latitude': 41.890357, 'longitude': -87.633704}</td>\n",
       "      <td>[pickup, delivery]</td>\n",
       "      <td>$$</td>\n",
       "      <td>{'address1': '439 N Wells St', 'address2': '',...</td>\n",
       "      <td>+13128289800</td>\n",
       "      <td>(312) 828-9800</td>\n",
       "      <td>1044.612279</td>\n",
       "    </tr>\n",
       "    <tr>\n",
       "      <th>1</th>\n",
       "      <td>Rn3o8GcYBPFJX5MWJn0r1Q</td>\n",
       "      <td>roberts-pizza-and-dough-chicago</td>\n",
       "      <td>Robert's Pizza and Dough</td>\n",
       "      <td>https://s3-media1.fl.yelpcdn.com/bphoto/0KtoeK...</td>\n",
       "      <td>False</td>\n",
       "      <td>https://www.yelp.com/biz/roberts-pizza-and-dou...</td>\n",
       "      <td>692</td>\n",
       "      <td>[{'alias': 'pizza', 'title': 'Pizza'}]</td>\n",
       "      <td>4.5</td>\n",
       "      <td>{'latitude': 41.8906916389975, 'longitude': -8...</td>\n",
       "      <td>[pickup, delivery]</td>\n",
       "      <td>$$</td>\n",
       "      <td>{'address1': '465 N McClurg Ct', 'address2': '...</td>\n",
       "      <td>+13122651328</td>\n",
       "      <td>(312) 265-1328</td>\n",
       "      <td>824.936680</td>\n",
       "    </tr>\n",
       "    <tr>\n",
       "      <th>2</th>\n",
       "      <td>hxq4TNNazA-sjqFvVgx_Pw</td>\n",
       "      <td>bongiornos-italian-deli-and-pizzeria-chicago</td>\n",
       "      <td>Bongiorno's Italian Deli &amp; Pizzeria</td>\n",
       "      <td>https://s3-media3.fl.yelpcdn.com/bphoto/A2VP2G...</td>\n",
       "      <td>False</td>\n",
       "      <td>https://www.yelp.com/biz/bongiornos-italian-de...</td>\n",
       "      <td>762</td>\n",
       "      <td>[{'alias': 'pizza', 'title': 'Pizza'}, {'alias...</td>\n",
       "      <td>4.5</td>\n",
       "      <td>{'latitude': 41.889903, 'longitude': -87.625788}</td>\n",
       "      <td>[pickup, delivery]</td>\n",
       "      <td>$$</td>\n",
       "      <td>{'address1': '405 N Wabash Ave', 'address2': '...</td>\n",
       "      <td>+13127551255</td>\n",
       "      <td>(312) 755-1255</td>\n",
       "      <td>589.665499</td>\n",
       "    </tr>\n",
       "    <tr>\n",
       "      <th>3</th>\n",
       "      <td>9LaA6_oGpgHCJWhlAkbnIw</td>\n",
       "      <td>pizanos-pizza-chicago-2</td>\n",
       "      <td>Pizano's Pizza</td>\n",
       "      <td>https://s3-media1.fl.yelpcdn.com/bphoto/t-JBT5...</td>\n",
       "      <td>False</td>\n",
       "      <td>https://www.yelp.com/biz/pizanos-pizza-chicago...</td>\n",
       "      <td>1607</td>\n",
       "      <td>[{'alias': 'pizza', 'title': 'Pizza'}, {'alias...</td>\n",
       "      <td>3.5</td>\n",
       "      <td>{'latitude': 41.88196509081896, 'longitude': -...</td>\n",
       "      <td>[pickup, delivery]</td>\n",
       "      <td>$$</td>\n",
       "      <td>{'address1': '61 E Madison St', 'address2': ''...</td>\n",
       "      <td>+13122361777</td>\n",
       "      <td>(312) 236-1777</td>\n",
       "      <td>375.640478</td>\n",
       "    </tr>\n",
       "    <tr>\n",
       "      <th>4</th>\n",
       "      <td>_gN4mf22zNcR4mS5J30CuQ</td>\n",
       "      <td>lou-malnatis-pizzeria-chicago-21</td>\n",
       "      <td>Lou Malnati's Pizzeria</td>\n",
       "      <td>https://s3-media4.fl.yelpcdn.com/bphoto/TA08cT...</td>\n",
       "      <td>False</td>\n",
       "      <td>https://www.yelp.com/biz/lou-malnatis-pizzeria...</td>\n",
       "      <td>469</td>\n",
       "      <td>[{'alias': 'pizza', 'title': 'Pizza'}]</td>\n",
       "      <td>3.5</td>\n",
       "      <td>{'latitude': 41.88988928086769, 'longitude': -...</td>\n",
       "      <td>[pickup]</td>\n",
       "      <td>$$</td>\n",
       "      <td>{'address1': '410 N Michigan Ave', 'address2':...</td>\n",
       "      <td>+13128585600</td>\n",
       "      <td>(312) 858-5600</td>\n",
       "      <td>567.631057</td>\n",
       "    </tr>\n",
       "  </tbody>\n",
       "</table>\n",
       "</div>"
      ],
      "text/plain": [
       "                       id                                         alias  \\\n",
       "0  8vFJH_paXsMocmEO_KAa3w                 lou-malnatis-pizzeria-chicago   \n",
       "1  Rn3o8GcYBPFJX5MWJn0r1Q               roberts-pizza-and-dough-chicago   \n",
       "2  hxq4TNNazA-sjqFvVgx_Pw  bongiornos-italian-deli-and-pizzeria-chicago   \n",
       "3  9LaA6_oGpgHCJWhlAkbnIw                       pizanos-pizza-chicago-2   \n",
       "4  _gN4mf22zNcR4mS5J30CuQ              lou-malnatis-pizzeria-chicago-21   \n",
       "\n",
       "                                  name  \\\n",
       "0               Lou Malnati's Pizzeria   \n",
       "1             Robert's Pizza and Dough   \n",
       "2  Bongiorno's Italian Deli & Pizzeria   \n",
       "3                       Pizano's Pizza   \n",
       "4               Lou Malnati's Pizzeria   \n",
       "\n",
       "                                           image_url  is_closed  \\\n",
       "0  https://s3-media3.fl.yelpcdn.com/bphoto/FXGmfo...      False   \n",
       "1  https://s3-media1.fl.yelpcdn.com/bphoto/0KtoeK...      False   \n",
       "2  https://s3-media3.fl.yelpcdn.com/bphoto/A2VP2G...      False   \n",
       "3  https://s3-media1.fl.yelpcdn.com/bphoto/t-JBT5...      False   \n",
       "4  https://s3-media4.fl.yelpcdn.com/bphoto/TA08cT...      False   \n",
       "\n",
       "                                                 url  review_count  \\\n",
       "0  https://www.yelp.com/biz/lou-malnatis-pizzeria...          6985   \n",
       "1  https://www.yelp.com/biz/roberts-pizza-and-dou...           692   \n",
       "2  https://www.yelp.com/biz/bongiornos-italian-de...           762   \n",
       "3  https://www.yelp.com/biz/pizanos-pizza-chicago...          1607   \n",
       "4  https://www.yelp.com/biz/lou-malnatis-pizzeria...           469   \n",
       "\n",
       "                                          categories  rating  \\\n",
       "0  [{'alias': 'pizza', 'title': 'Pizza'}, {'alias...     4.0   \n",
       "1             [{'alias': 'pizza', 'title': 'Pizza'}]     4.5   \n",
       "2  [{'alias': 'pizza', 'title': 'Pizza'}, {'alias...     4.5   \n",
       "3  [{'alias': 'pizza', 'title': 'Pizza'}, {'alias...     3.5   \n",
       "4             [{'alias': 'pizza', 'title': 'Pizza'}]     3.5   \n",
       "\n",
       "                                         coordinates        transactions  \\\n",
       "0   {'latitude': 41.890357, 'longitude': -87.633704}  [pickup, delivery]   \n",
       "1  {'latitude': 41.8906916389975, 'longitude': -8...  [pickup, delivery]   \n",
       "2   {'latitude': 41.889903, 'longitude': -87.625788}  [pickup, delivery]   \n",
       "3  {'latitude': 41.88196509081896, 'longitude': -...  [pickup, delivery]   \n",
       "4  {'latitude': 41.88988928086769, 'longitude': -...            [pickup]   \n",
       "\n",
       "  price                                           location         phone  \\\n",
       "0    $$  {'address1': '439 N Wells St', 'address2': '',...  +13128289800   \n",
       "1    $$  {'address1': '465 N McClurg Ct', 'address2': '...  +13122651328   \n",
       "2    $$  {'address1': '405 N Wabash Ave', 'address2': '...  +13127551255   \n",
       "3    $$  {'address1': '61 E Madison St', 'address2': ''...  +13122361777   \n",
       "4    $$  {'address1': '410 N Michigan Ave', 'address2':...  +13128585600   \n",
       "\n",
       "    display_phone     distance  \n",
       "0  (312) 828-9800  1044.612279  \n",
       "1  (312) 265-1328   824.936680  \n",
       "2  (312) 755-1255   589.665499  \n",
       "3  (312) 236-1777   375.640478  \n",
       "4  (312) 858-5600   567.631057  "
      ]
     },
     "execution_count": 62,
     "metadata": {},
     "output_type": "execute_result"
    }
   ],
   "source": [
    "df = pd.read_json(JSON_FILE)\n",
    "df.head()"
   ]
  },
  {
   "cell_type": "code",
   "execution_count": 63,
   "metadata": {},
   "outputs": [
    {
     "data": {
      "text/plain": [
       "'Data/Chicago-pizza.csv.gz'"
      ]
     },
     "execution_count": 63,
     "metadata": {},
     "output_type": "execute_result"
    }
   ],
   "source": [
    "## convert the filename to a .csv.gz\n",
    "csv_file = JSON_FILE.replace('.json','.csv.gz')\n",
    "csv_file"
   ]
  },
  {
   "cell_type": "code",
   "execution_count": 64,
   "metadata": {},
   "outputs": [],
   "source": [
    "## Save it as a compressed csv (to save space)\n",
    "df.to_csv(csv_file, compression='gzip', index=False)"
   ]
  },
  {
   "cell_type": "markdown",
   "metadata": {},
   "source": [
    "## Bonus: compare filesize with os module's `os.path.getsize`"
   ]
  },
  {
   "cell_type": "code",
   "execution_count": 65,
   "metadata": {},
   "outputs": [
    {
     "name": "stdout",
     "output_type": "stream",
     "text": [
      "JSON FILE: 552,129 Bytes\n",
      "CSV.GZ FILE: 78,006 Bytes\n",
      "the csv.gz is 7.078032459041612 times smaller!\n"
     ]
    }
   ],
   "source": [
    "size_json = os.path.getsize(JSON_FILE)\n",
    "size_csv_gz = os.path.getsize(JSON_FILE.replace('.json','.csv.gz'))\n",
    "\n",
    "print(f'JSON FILE: {size_json:,} Bytes')\n",
    "print(f'CSV.GZ FILE: {size_csv_gz:,} Bytes')\n",
    "\n",
    "print(f'the csv.gz is {size_json/size_csv_gz} times smaller!')"
   ]
  },
  {
   "cell_type": "markdown",
   "metadata": {},
   "source": [
    "## Next Class: Processing the Results and Mapping "
   ]
  }
 ],
 "metadata": {
  "colab": {
   "collapsed_sections": [],
   "name": "Test Yelp API Package.ipynb",
   "provenance": []
  },
  "kernelspec": {
   "display_name": "Python (dojo-env)",
   "language": "python",
   "name": "dojo-env"
  },
  "language_info": {
   "codemirror_mode": {
    "name": "ipython",
    "version": 3
   },
   "file_extension": ".py",
   "mimetype": "text/x-python",
   "name": "python",
   "nbconvert_exporter": "python",
   "pygments_lexer": "ipython3",
   "version": "3.9.15"
  },
  "toc": {
   "base_numbering": 1,
   "nav_menu": {},
   "number_sections": false,
   "sideBar": true,
   "skip_h1_title": false,
   "title_cell": "Table of Contents",
   "title_sidebar": "Contents",
   "toc_cell": false,
   "toc_position": {},
   "toc_section_display": true,
   "toc_window_display": true
  }
 },
 "nbformat": 4,
 "nbformat_minor": 4
}
